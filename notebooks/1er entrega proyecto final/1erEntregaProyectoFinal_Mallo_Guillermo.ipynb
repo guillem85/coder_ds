{
 "cells": [
  {
   "cell_type": "markdown",
   "id": "1bf0884b-047d-472c-81fa-87d611099483",
   "metadata": {},
   "source": [
    "# Bank Marketing Campaign"
   ]
  },
  {
   "cell_type": "markdown",
   "id": "97d54637-bdcb-45a6-af3b-11ff1204bd07",
   "metadata": {},
   "source": [
    "## 1er fase: Definición de objetivo\n",
    "Crear un modelo predictivo de la efectividad que tendrá una próxima posible campaña telefónica apoyandonós en los datos históricos del banco."
   ]
  },
  {
   "cell_type": "markdown",
   "id": "78804ea3-969a-4dd7-bca2-74e34345025d",
   "metadata": {},
   "source": [
    "## 2da fase: Contexto comercial\n",
    "Trabajaremos sobre campañas telefónicas de afiliación a los servicios de un banco portugues. Teniendo en cuenta lo costosas que son para el banco las campañas de marketing, necesita saber el comportamiento de sus clientes para con sus campañas y detectar de esa forma cuales son más eficientes y porque. Nos resulta importante entender al p´blico que nos conviene apuntar con estas campañas por lo que prestaremos máxima atención al tipo de trabajo y el nivel educativo de los alcanzados por las campañas históricas que nos proporciona el banco en el dataset."
   ]
  },
  {
   "cell_type": "markdown",
   "id": "ef5503c7-a3c6-4476-b511-4580a168dad7",
   "metadata": {},
   "source": [
    "## 3ra fase: Problema comercial\n",
    "¿Cuales fueron las campañas más exitosas?, ¿las que tuvieron mejores resultados?\n",
    "\n",
    "¿Que ocupaciones tendrán las personas que más contratan los servicios del banco?\n",
    "\n",
    "¿Son las campañas telefónicas más efectivas entre las personas con estudios alcanzados más elevados?"
   ]
  },
  {
   "cell_type": "markdown",
   "id": "5ba5bd4c-d06c-4ef3-962b-80ac64d26602",
   "metadata": {},
   "source": [
    "## 4ta fase: Data Acquisition\n",
    "Los datos con los que trabajaremos son datos históricos proporcionados por el banco sobre las 11 campañas telefónicas realizadas hasta la fecha, lso mismos son entregados en formato CSV que importaremos con la libreria pandas, en ellos encontraremos 3 'key values' la aceptación o no de la campaña, el nivel educacional y el tipo de trabajo que realiza la persona de cada registro."
   ]
  },
  {
   "cell_type": "code",
   "execution_count": 1,
   "id": "20fb8ed2-2eb1-4ed8-b4bf-cec3c2a1d54a",
   "metadata": {},
   "outputs": [],
   "source": [
    "import pandas as pd\n",
    "import numpy as np\n",
    "bank_df = pd.read_csv('bank-additional.csv',sep=';') # importamos pandas numpy y el csv que en este caso está separado por ;"
   ]
  },
  {
   "cell_type": "markdown",
   "id": "55ffeac2-ea98-4047-b5d6-7b3cb0d6b60e",
   "metadata": {},
   "source": [
    "## 5ta fase: Exploratory Data Analysis (EDA)"
   ]
  },
  {
   "cell_type": "code",
   "execution_count": 2,
   "id": "c8501259-20d6-4b81-821e-d92e7141b414",
   "metadata": {},
   "outputs": [
    {
     "data": {
      "text/html": [
       "<div>\n",
       "<style scoped>\n",
       "    .dataframe tbody tr th:only-of-type {\n",
       "        vertical-align: middle;\n",
       "    }\n",
       "\n",
       "    .dataframe tbody tr th {\n",
       "        vertical-align: top;\n",
       "    }\n",
       "\n",
       "    .dataframe thead th {\n",
       "        text-align: right;\n",
       "    }\n",
       "</style>\n",
       "<table border=\"1\" class=\"dataframe\">\n",
       "  <thead>\n",
       "    <tr style=\"text-align: right;\">\n",
       "      <th></th>\n",
       "      <th>age</th>\n",
       "      <th>job</th>\n",
       "      <th>marital</th>\n",
       "      <th>education</th>\n",
       "      <th>default</th>\n",
       "      <th>housing</th>\n",
       "      <th>loan</th>\n",
       "      <th>contact</th>\n",
       "      <th>month</th>\n",
       "      <th>day_of_week</th>\n",
       "      <th>...</th>\n",
       "      <th>campaign</th>\n",
       "      <th>pdays</th>\n",
       "      <th>previous</th>\n",
       "      <th>poutcome</th>\n",
       "      <th>emp.var.rate</th>\n",
       "      <th>cons.price.idx</th>\n",
       "      <th>cons.conf.idx</th>\n",
       "      <th>euribor3m</th>\n",
       "      <th>nr.employed</th>\n",
       "      <th>y</th>\n",
       "    </tr>\n",
       "  </thead>\n",
       "  <tbody>\n",
       "    <tr>\n",
       "      <th>0</th>\n",
       "      <td>30</td>\n",
       "      <td>blue-collar</td>\n",
       "      <td>married</td>\n",
       "      <td>basic.9y</td>\n",
       "      <td>no</td>\n",
       "      <td>yes</td>\n",
       "      <td>no</td>\n",
       "      <td>cellular</td>\n",
       "      <td>may</td>\n",
       "      <td>fri</td>\n",
       "      <td>...</td>\n",
       "      <td>2</td>\n",
       "      <td>999</td>\n",
       "      <td>0</td>\n",
       "      <td>nonexistent</td>\n",
       "      <td>-1.8</td>\n",
       "      <td>92.893</td>\n",
       "      <td>-46.2</td>\n",
       "      <td>1.313</td>\n",
       "      <td>5099.1</td>\n",
       "      <td>no</td>\n",
       "    </tr>\n",
       "    <tr>\n",
       "      <th>1</th>\n",
       "      <td>39</td>\n",
       "      <td>services</td>\n",
       "      <td>single</td>\n",
       "      <td>high.school</td>\n",
       "      <td>no</td>\n",
       "      <td>no</td>\n",
       "      <td>no</td>\n",
       "      <td>telephone</td>\n",
       "      <td>may</td>\n",
       "      <td>fri</td>\n",
       "      <td>...</td>\n",
       "      <td>4</td>\n",
       "      <td>999</td>\n",
       "      <td>0</td>\n",
       "      <td>nonexistent</td>\n",
       "      <td>1.1</td>\n",
       "      <td>93.994</td>\n",
       "      <td>-36.4</td>\n",
       "      <td>4.855</td>\n",
       "      <td>5191.0</td>\n",
       "      <td>no</td>\n",
       "    </tr>\n",
       "    <tr>\n",
       "      <th>2</th>\n",
       "      <td>25</td>\n",
       "      <td>services</td>\n",
       "      <td>married</td>\n",
       "      <td>high.school</td>\n",
       "      <td>no</td>\n",
       "      <td>yes</td>\n",
       "      <td>no</td>\n",
       "      <td>telephone</td>\n",
       "      <td>jun</td>\n",
       "      <td>wed</td>\n",
       "      <td>...</td>\n",
       "      <td>1</td>\n",
       "      <td>999</td>\n",
       "      <td>0</td>\n",
       "      <td>nonexistent</td>\n",
       "      <td>1.4</td>\n",
       "      <td>94.465</td>\n",
       "      <td>-41.8</td>\n",
       "      <td>4.962</td>\n",
       "      <td>5228.1</td>\n",
       "      <td>no</td>\n",
       "    </tr>\n",
       "    <tr>\n",
       "      <th>3</th>\n",
       "      <td>38</td>\n",
       "      <td>services</td>\n",
       "      <td>married</td>\n",
       "      <td>basic.9y</td>\n",
       "      <td>no</td>\n",
       "      <td>unknown</td>\n",
       "      <td>unknown</td>\n",
       "      <td>telephone</td>\n",
       "      <td>jun</td>\n",
       "      <td>fri</td>\n",
       "      <td>...</td>\n",
       "      <td>3</td>\n",
       "      <td>999</td>\n",
       "      <td>0</td>\n",
       "      <td>nonexistent</td>\n",
       "      <td>1.4</td>\n",
       "      <td>94.465</td>\n",
       "      <td>-41.8</td>\n",
       "      <td>4.959</td>\n",
       "      <td>5228.1</td>\n",
       "      <td>no</td>\n",
       "    </tr>\n",
       "    <tr>\n",
       "      <th>4</th>\n",
       "      <td>47</td>\n",
       "      <td>admin.</td>\n",
       "      <td>married</td>\n",
       "      <td>university.degree</td>\n",
       "      <td>no</td>\n",
       "      <td>yes</td>\n",
       "      <td>no</td>\n",
       "      <td>cellular</td>\n",
       "      <td>nov</td>\n",
       "      <td>mon</td>\n",
       "      <td>...</td>\n",
       "      <td>1</td>\n",
       "      <td>999</td>\n",
       "      <td>0</td>\n",
       "      <td>nonexistent</td>\n",
       "      <td>-0.1</td>\n",
       "      <td>93.200</td>\n",
       "      <td>-42.0</td>\n",
       "      <td>4.191</td>\n",
       "      <td>5195.8</td>\n",
       "      <td>no</td>\n",
       "    </tr>\n",
       "  </tbody>\n",
       "</table>\n",
       "<p>5 rows × 21 columns</p>\n",
       "</div>"
      ],
      "text/plain": [
       "   age          job  marital          education default  housing     loan  \\\n",
       "0   30  blue-collar  married           basic.9y      no      yes       no   \n",
       "1   39     services   single        high.school      no       no       no   \n",
       "2   25     services  married        high.school      no      yes       no   \n",
       "3   38     services  married           basic.9y      no  unknown  unknown   \n",
       "4   47       admin.  married  university.degree      no      yes       no   \n",
       "\n",
       "     contact month day_of_week  ...  campaign  pdays  previous     poutcome  \\\n",
       "0   cellular   may         fri  ...         2    999         0  nonexistent   \n",
       "1  telephone   may         fri  ...         4    999         0  nonexistent   \n",
       "2  telephone   jun         wed  ...         1    999         0  nonexistent   \n",
       "3  telephone   jun         fri  ...         3    999         0  nonexistent   \n",
       "4   cellular   nov         mon  ...         1    999         0  nonexistent   \n",
       "\n",
       "  emp.var.rate  cons.price.idx  cons.conf.idx  euribor3m  nr.employed   y  \n",
       "0         -1.8          92.893          -46.2      1.313       5099.1  no  \n",
       "1          1.1          93.994          -36.4      4.855       5191.0  no  \n",
       "2          1.4          94.465          -41.8      4.962       5228.1  no  \n",
       "3          1.4          94.465          -41.8      4.959       5228.1  no  \n",
       "4         -0.1          93.200          -42.0      4.191       5195.8  no  \n",
       "\n",
       "[5 rows x 21 columns]"
      ]
     },
     "execution_count": 2,
     "metadata": {},
     "output_type": "execute_result"
    }
   ],
   "source": [
    "bank_df.head() # muestreamos lso datos para ver que tipo de información nos brindan."
   ]
  },
  {
   "cell_type": "code",
   "execution_count": 3,
   "id": "03e64603-562c-4cac-b72f-53aa26f1f1df",
   "metadata": {},
   "outputs": [
    {
     "data": {
      "text/plain": [
       "(4119, 21)"
      ]
     },
     "execution_count": 3,
     "metadata": {},
     "output_type": "execute_result"
    }
   ],
   "source": [
    "bank_df.shape # verificamos la cantidad de registros (rows) y columnas (features)"
   ]
  },
  {
   "cell_type": "code",
   "execution_count": 4,
   "id": "e03c530a-000d-483f-b6e7-a48354df95bd",
   "metadata": {},
   "outputs": [
    {
     "data": {
      "text/plain": [
       "age               451\n",
       "job               451\n",
       "marital           451\n",
       "education         451\n",
       "default           451\n",
       "housing           451\n",
       "loan              451\n",
       "contact           451\n",
       "month             451\n",
       "day_of_week       451\n",
       "duration          451\n",
       "campaign          451\n",
       "pdays             451\n",
       "previous          451\n",
       "poutcome          451\n",
       "emp.var.rate      451\n",
       "cons.price.idx    451\n",
       "cons.conf.idx     451\n",
       "euribor3m         451\n",
       "nr.employed       451\n",
       "y                 451\n",
       "dtype: int64"
      ]
     },
     "execution_count": 4,
     "metadata": {},
     "output_type": "execute_result"
    }
   ],
   "source": [
    "bank_df[bank_df['y']=='yes'].count(axis=0, numeric_only=False) # filtro de los casos que la campaña consiguió un Yes, o sea una campaña exitosa"
   ]
  },
  {
   "cell_type": "code",
   "execution_count": 5,
   "id": "a67405f8-f977-45eb-8ab9-f6b977e791b7",
   "metadata": {},
   "outputs": [],
   "source": [
    "bank_df_suby = bank_df[bank_df['y']=='yes'] # genero un nuedo df filtrado solo con los registros de campañas exitosas"
   ]
  },
  {
   "cell_type": "code",
   "execution_count": 6,
   "id": "5a93c4bf-3086-43c4-8406-e2cffc429062",
   "metadata": {},
   "outputs": [
    {
     "data": {
      "text/html": [
       "<div>\n",
       "<style scoped>\n",
       "    .dataframe tbody tr th:only-of-type {\n",
       "        vertical-align: middle;\n",
       "    }\n",
       "\n",
       "    .dataframe tbody tr th {\n",
       "        vertical-align: top;\n",
       "    }\n",
       "\n",
       "    .dataframe thead th {\n",
       "        text-align: right;\n",
       "    }\n",
       "</style>\n",
       "<table border=\"1\" class=\"dataframe\">\n",
       "  <thead>\n",
       "    <tr style=\"text-align: right;\">\n",
       "      <th></th>\n",
       "      <th>age</th>\n",
       "      <th>job</th>\n",
       "      <th>marital</th>\n",
       "      <th>education</th>\n",
       "      <th>default</th>\n",
       "      <th>housing</th>\n",
       "      <th>loan</th>\n",
       "      <th>contact</th>\n",
       "      <th>month</th>\n",
       "      <th>day_of_week</th>\n",
       "      <th>...</th>\n",
       "      <th>campaign</th>\n",
       "      <th>pdays</th>\n",
       "      <th>previous</th>\n",
       "      <th>poutcome</th>\n",
       "      <th>emp.var.rate</th>\n",
       "      <th>cons.price.idx</th>\n",
       "      <th>cons.conf.idx</th>\n",
       "      <th>euribor3m</th>\n",
       "      <th>nr.employed</th>\n",
       "      <th>y</th>\n",
       "    </tr>\n",
       "  </thead>\n",
       "  <tbody>\n",
       "    <tr>\n",
       "      <th>19</th>\n",
       "      <td>50</td>\n",
       "      <td>blue-collar</td>\n",
       "      <td>married</td>\n",
       "      <td>basic.4y</td>\n",
       "      <td>no</td>\n",
       "      <td>no</td>\n",
       "      <td>yes</td>\n",
       "      <td>cellular</td>\n",
       "      <td>jul</td>\n",
       "      <td>tue</td>\n",
       "      <td>...</td>\n",
       "      <td>1</td>\n",
       "      <td>999</td>\n",
       "      <td>0</td>\n",
       "      <td>nonexistent</td>\n",
       "      <td>1.4</td>\n",
       "      <td>93.918</td>\n",
       "      <td>-42.7</td>\n",
       "      <td>4.961</td>\n",
       "      <td>5228.1</td>\n",
       "      <td>yes</td>\n",
       "    </tr>\n",
       "    <tr>\n",
       "      <th>2211</th>\n",
       "      <td>48</td>\n",
       "      <td>blue-collar</td>\n",
       "      <td>married</td>\n",
       "      <td>basic.9y</td>\n",
       "      <td>no</td>\n",
       "      <td>yes</td>\n",
       "      <td>no</td>\n",
       "      <td>cellular</td>\n",
       "      <td>may</td>\n",
       "      <td>tue</td>\n",
       "      <td>...</td>\n",
       "      <td>1</td>\n",
       "      <td>3</td>\n",
       "      <td>3</td>\n",
       "      <td>success</td>\n",
       "      <td>-1.8</td>\n",
       "      <td>93.876</td>\n",
       "      <td>-40.0</td>\n",
       "      <td>0.668</td>\n",
       "      <td>5008.7</td>\n",
       "      <td>yes</td>\n",
       "    </tr>\n",
       "    <tr>\n",
       "      <th>2182</th>\n",
       "      <td>43</td>\n",
       "      <td>technician</td>\n",
       "      <td>married</td>\n",
       "      <td>university.degree</td>\n",
       "      <td>unknown</td>\n",
       "      <td>unknown</td>\n",
       "      <td>unknown</td>\n",
       "      <td>cellular</td>\n",
       "      <td>may</td>\n",
       "      <td>tue</td>\n",
       "      <td>...</td>\n",
       "      <td>1</td>\n",
       "      <td>999</td>\n",
       "      <td>1</td>\n",
       "      <td>failure</td>\n",
       "      <td>-1.8</td>\n",
       "      <td>92.893</td>\n",
       "      <td>-46.2</td>\n",
       "      <td>1.291</td>\n",
       "      <td>5099.1</td>\n",
       "      <td>yes</td>\n",
       "    </tr>\n",
       "    <tr>\n",
       "      <th>2169</th>\n",
       "      <td>21</td>\n",
       "      <td>student</td>\n",
       "      <td>single</td>\n",
       "      <td>high.school</td>\n",
       "      <td>no</td>\n",
       "      <td>no</td>\n",
       "      <td>no</td>\n",
       "      <td>cellular</td>\n",
       "      <td>oct</td>\n",
       "      <td>tue</td>\n",
       "      <td>...</td>\n",
       "      <td>1</td>\n",
       "      <td>999</td>\n",
       "      <td>0</td>\n",
       "      <td>nonexistent</td>\n",
       "      <td>-1.1</td>\n",
       "      <td>94.601</td>\n",
       "      <td>-49.5</td>\n",
       "      <td>0.982</td>\n",
       "      <td>4963.6</td>\n",
       "      <td>yes</td>\n",
       "    </tr>\n",
       "    <tr>\n",
       "      <th>2162</th>\n",
       "      <td>36</td>\n",
       "      <td>admin.</td>\n",
       "      <td>single</td>\n",
       "      <td>high.school</td>\n",
       "      <td>no</td>\n",
       "      <td>yes</td>\n",
       "      <td>no</td>\n",
       "      <td>cellular</td>\n",
       "      <td>aug</td>\n",
       "      <td>fri</td>\n",
       "      <td>...</td>\n",
       "      <td>1</td>\n",
       "      <td>3</td>\n",
       "      <td>2</td>\n",
       "      <td>success</td>\n",
       "      <td>-2.9</td>\n",
       "      <td>92.201</td>\n",
       "      <td>-31.4</td>\n",
       "      <td>0.849</td>\n",
       "      <td>5076.2</td>\n",
       "      <td>yes</td>\n",
       "    </tr>\n",
       "    <tr>\n",
       "      <th>...</th>\n",
       "      <td>...</td>\n",
       "      <td>...</td>\n",
       "      <td>...</td>\n",
       "      <td>...</td>\n",
       "      <td>...</td>\n",
       "      <td>...</td>\n",
       "      <td>...</td>\n",
       "      <td>...</td>\n",
       "      <td>...</td>\n",
       "      <td>...</td>\n",
       "      <td>...</td>\n",
       "      <td>...</td>\n",
       "      <td>...</td>\n",
       "      <td>...</td>\n",
       "      <td>...</td>\n",
       "      <td>...</td>\n",
       "      <td>...</td>\n",
       "      <td>...</td>\n",
       "      <td>...</td>\n",
       "      <td>...</td>\n",
       "      <td>...</td>\n",
       "    </tr>\n",
       "    <tr>\n",
       "      <th>364</th>\n",
       "      <td>48</td>\n",
       "      <td>technician</td>\n",
       "      <td>married</td>\n",
       "      <td>professional.course</td>\n",
       "      <td>no</td>\n",
       "      <td>yes</td>\n",
       "      <td>no</td>\n",
       "      <td>cellular</td>\n",
       "      <td>aug</td>\n",
       "      <td>fri</td>\n",
       "      <td>...</td>\n",
       "      <td>8</td>\n",
       "      <td>999</td>\n",
       "      <td>0</td>\n",
       "      <td>nonexistent</td>\n",
       "      <td>1.4</td>\n",
       "      <td>93.444</td>\n",
       "      <td>-36.1</td>\n",
       "      <td>4.964</td>\n",
       "      <td>5228.1</td>\n",
       "      <td>yes</td>\n",
       "    </tr>\n",
       "    <tr>\n",
       "      <th>2087</th>\n",
       "      <td>30</td>\n",
       "      <td>admin.</td>\n",
       "      <td>single</td>\n",
       "      <td>university.degree</td>\n",
       "      <td>no</td>\n",
       "      <td>yes</td>\n",
       "      <td>no</td>\n",
       "      <td>cellular</td>\n",
       "      <td>jul</td>\n",
       "      <td>thu</td>\n",
       "      <td>...</td>\n",
       "      <td>8</td>\n",
       "      <td>999</td>\n",
       "      <td>0</td>\n",
       "      <td>nonexistent</td>\n",
       "      <td>1.4</td>\n",
       "      <td>93.918</td>\n",
       "      <td>-42.7</td>\n",
       "      <td>4.962</td>\n",
       "      <td>5228.1</td>\n",
       "      <td>yes</td>\n",
       "    </tr>\n",
       "    <tr>\n",
       "      <th>1188</th>\n",
       "      <td>59</td>\n",
       "      <td>unemployed</td>\n",
       "      <td>married</td>\n",
       "      <td>basic.4y</td>\n",
       "      <td>unknown</td>\n",
       "      <td>yes</td>\n",
       "      <td>no</td>\n",
       "      <td>cellular</td>\n",
       "      <td>jul</td>\n",
       "      <td>thu</td>\n",
       "      <td>...</td>\n",
       "      <td>9</td>\n",
       "      <td>999</td>\n",
       "      <td>0</td>\n",
       "      <td>nonexistent</td>\n",
       "      <td>1.4</td>\n",
       "      <td>93.918</td>\n",
       "      <td>-42.7</td>\n",
       "      <td>4.962</td>\n",
       "      <td>5228.1</td>\n",
       "      <td>yes</td>\n",
       "    </tr>\n",
       "    <tr>\n",
       "      <th>3448</th>\n",
       "      <td>43</td>\n",
       "      <td>admin.</td>\n",
       "      <td>married</td>\n",
       "      <td>high.school</td>\n",
       "      <td>no</td>\n",
       "      <td>no</td>\n",
       "      <td>no</td>\n",
       "      <td>telephone</td>\n",
       "      <td>jun</td>\n",
       "      <td>fri</td>\n",
       "      <td>...</td>\n",
       "      <td>10</td>\n",
       "      <td>999</td>\n",
       "      <td>0</td>\n",
       "      <td>nonexistent</td>\n",
       "      <td>1.4</td>\n",
       "      <td>94.465</td>\n",
       "      <td>-41.8</td>\n",
       "      <td>4.959</td>\n",
       "      <td>5228.1</td>\n",
       "      <td>yes</td>\n",
       "    </tr>\n",
       "    <tr>\n",
       "      <th>1750</th>\n",
       "      <td>33</td>\n",
       "      <td>blue-collar</td>\n",
       "      <td>married</td>\n",
       "      <td>basic.9y</td>\n",
       "      <td>no</td>\n",
       "      <td>yes</td>\n",
       "      <td>no</td>\n",
       "      <td>cellular</td>\n",
       "      <td>jul</td>\n",
       "      <td>wed</td>\n",
       "      <td>...</td>\n",
       "      <td>11</td>\n",
       "      <td>999</td>\n",
       "      <td>0</td>\n",
       "      <td>nonexistent</td>\n",
       "      <td>1.4</td>\n",
       "      <td>93.918</td>\n",
       "      <td>-42.7</td>\n",
       "      <td>4.957</td>\n",
       "      <td>5228.1</td>\n",
       "      <td>yes</td>\n",
       "    </tr>\n",
       "  </tbody>\n",
       "</table>\n",
       "<p>451 rows × 21 columns</p>\n",
       "</div>"
      ],
      "text/plain": [
       "      age          job  marital            education  default  housing  \\\n",
       "19     50  blue-collar  married             basic.4y       no       no   \n",
       "2211   48  blue-collar  married             basic.9y       no      yes   \n",
       "2182   43   technician  married    university.degree  unknown  unknown   \n",
       "2169   21      student   single          high.school       no       no   \n",
       "2162   36       admin.   single          high.school       no      yes   \n",
       "...   ...          ...      ...                  ...      ...      ...   \n",
       "364    48   technician  married  professional.course       no      yes   \n",
       "2087   30       admin.   single    university.degree       no      yes   \n",
       "1188   59   unemployed  married             basic.4y  unknown      yes   \n",
       "3448   43       admin.  married          high.school       no       no   \n",
       "1750   33  blue-collar  married             basic.9y       no      yes   \n",
       "\n",
       "         loan    contact month day_of_week  ...  campaign  pdays  previous  \\\n",
       "19        yes   cellular   jul         tue  ...         1    999         0   \n",
       "2211       no   cellular   may         tue  ...         1      3         3   \n",
       "2182  unknown   cellular   may         tue  ...         1    999         1   \n",
       "2169       no   cellular   oct         tue  ...         1    999         0   \n",
       "2162       no   cellular   aug         fri  ...         1      3         2   \n",
       "...       ...        ...   ...         ...  ...       ...    ...       ...   \n",
       "364        no   cellular   aug         fri  ...         8    999         0   \n",
       "2087       no   cellular   jul         thu  ...         8    999         0   \n",
       "1188       no   cellular   jul         thu  ...         9    999         0   \n",
       "3448       no  telephone   jun         fri  ...        10    999         0   \n",
       "1750       no   cellular   jul         wed  ...        11    999         0   \n",
       "\n",
       "         poutcome emp.var.rate  cons.price.idx  cons.conf.idx  euribor3m  \\\n",
       "19    nonexistent          1.4          93.918          -42.7      4.961   \n",
       "2211      success         -1.8          93.876          -40.0      0.668   \n",
       "2182      failure         -1.8          92.893          -46.2      1.291   \n",
       "2169  nonexistent         -1.1          94.601          -49.5      0.982   \n",
       "2162      success         -2.9          92.201          -31.4      0.849   \n",
       "...           ...          ...             ...            ...        ...   \n",
       "364   nonexistent          1.4          93.444          -36.1      4.964   \n",
       "2087  nonexistent          1.4          93.918          -42.7      4.962   \n",
       "1188  nonexistent          1.4          93.918          -42.7      4.962   \n",
       "3448  nonexistent          1.4          94.465          -41.8      4.959   \n",
       "1750  nonexistent          1.4          93.918          -42.7      4.957   \n",
       "\n",
       "      nr.employed    y  \n",
       "19         5228.1  yes  \n",
       "2211       5008.7  yes  \n",
       "2182       5099.1  yes  \n",
       "2169       4963.6  yes  \n",
       "2162       5076.2  yes  \n",
       "...           ...  ...  \n",
       "364        5228.1  yes  \n",
       "2087       5228.1  yes  \n",
       "1188       5228.1  yes  \n",
       "3448       5228.1  yes  \n",
       "1750       5228.1  yes  \n",
       "\n",
       "[451 rows x 21 columns]"
      ]
     },
     "execution_count": 6,
     "metadata": {},
     "output_type": "execute_result"
    }
   ],
   "source": [
    "bank_df_suby.sort_values(by = 'campaign') # Ordeno el DF por campañas para un rápido vistazo la cantidad min y max necesaria para una suscripción exitosa."
   ]
  },
  {
   "cell_type": "markdown",
   "id": "b4cafd93-e5d6-4962-b156-2d8ad7df0cdb",
   "metadata": {},
   "source": [
    "#### Vamos a dropear las columnas que no usaremos en el proyecto para simplificar y agilizar el analisis y la operatoria"
   ]
  },
  {
   "cell_type": "code",
   "execution_count": 7,
   "id": "c6549041-b8ce-472c-832b-f3f32d33e256",
   "metadata": {},
   "outputs": [
    {
     "data": {
      "text/plain": [
       "Index(['age', 'job', 'marital', 'education', 'default', 'housing', 'loan',\n",
       "       'contact', 'month', 'day_of_week', 'duration', 'campaign', 'pdays',\n",
       "       'previous', 'poutcome', 'emp.var.rate', 'cons.price.idx',\n",
       "       'cons.conf.idx', 'euribor3m', 'nr.employed', 'y'],\n",
       "      dtype='object')"
      ]
     },
     "execution_count": 7,
     "metadata": {},
     "output_type": "execute_result"
    }
   ],
   "source": [
    "bank_df.columns"
   ]
  },
  {
   "cell_type": "code",
   "execution_count": 8,
   "id": "2900c1e9-7dc0-4ff9-970e-15df1896644b",
   "metadata": {},
   "outputs": [],
   "source": [
    "columns_keep = ['age', 'job', 'education', 'month', 'campaign', 'previous', 'poutcome', 'y']"
   ]
  },
  {
   "cell_type": "code",
   "execution_count": 9,
   "id": "acbea876-e436-44a8-8f9f-13c3db22dc1f",
   "metadata": {},
   "outputs": [],
   "source": [
    "bank_df_2 = bank_df[columns_keep]"
   ]
  },
  {
   "cell_type": "code",
   "execution_count": 10,
   "id": "e87b0f8f-48f6-454e-800e-c986911f86dc",
   "metadata": {},
   "outputs": [
    {
     "data": {
      "text/html": [
       "<div>\n",
       "<style scoped>\n",
       "    .dataframe tbody tr th:only-of-type {\n",
       "        vertical-align: middle;\n",
       "    }\n",
       "\n",
       "    .dataframe tbody tr th {\n",
       "        vertical-align: top;\n",
       "    }\n",
       "\n",
       "    .dataframe thead th {\n",
       "        text-align: right;\n",
       "    }\n",
       "</style>\n",
       "<table border=\"1\" class=\"dataframe\">\n",
       "  <thead>\n",
       "    <tr style=\"text-align: right;\">\n",
       "      <th></th>\n",
       "      <th>age</th>\n",
       "      <th>job</th>\n",
       "      <th>education</th>\n",
       "      <th>month</th>\n",
       "      <th>campaign</th>\n",
       "      <th>previous</th>\n",
       "      <th>poutcome</th>\n",
       "      <th>y</th>\n",
       "    </tr>\n",
       "  </thead>\n",
       "  <tbody>\n",
       "    <tr>\n",
       "      <th>0</th>\n",
       "      <td>30</td>\n",
       "      <td>blue-collar</td>\n",
       "      <td>basic.9y</td>\n",
       "      <td>may</td>\n",
       "      <td>2</td>\n",
       "      <td>0</td>\n",
       "      <td>nonexistent</td>\n",
       "      <td>no</td>\n",
       "    </tr>\n",
       "    <tr>\n",
       "      <th>1</th>\n",
       "      <td>39</td>\n",
       "      <td>services</td>\n",
       "      <td>high.school</td>\n",
       "      <td>may</td>\n",
       "      <td>4</td>\n",
       "      <td>0</td>\n",
       "      <td>nonexistent</td>\n",
       "      <td>no</td>\n",
       "    </tr>\n",
       "    <tr>\n",
       "      <th>2</th>\n",
       "      <td>25</td>\n",
       "      <td>services</td>\n",
       "      <td>high.school</td>\n",
       "      <td>jun</td>\n",
       "      <td>1</td>\n",
       "      <td>0</td>\n",
       "      <td>nonexistent</td>\n",
       "      <td>no</td>\n",
       "    </tr>\n",
       "    <tr>\n",
       "      <th>3</th>\n",
       "      <td>38</td>\n",
       "      <td>services</td>\n",
       "      <td>basic.9y</td>\n",
       "      <td>jun</td>\n",
       "      <td>3</td>\n",
       "      <td>0</td>\n",
       "      <td>nonexistent</td>\n",
       "      <td>no</td>\n",
       "    </tr>\n",
       "    <tr>\n",
       "      <th>4</th>\n",
       "      <td>47</td>\n",
       "      <td>admin.</td>\n",
       "      <td>university.degree</td>\n",
       "      <td>nov</td>\n",
       "      <td>1</td>\n",
       "      <td>0</td>\n",
       "      <td>nonexistent</td>\n",
       "      <td>no</td>\n",
       "    </tr>\n",
       "    <tr>\n",
       "      <th>...</th>\n",
       "      <td>...</td>\n",
       "      <td>...</td>\n",
       "      <td>...</td>\n",
       "      <td>...</td>\n",
       "      <td>...</td>\n",
       "      <td>...</td>\n",
       "      <td>...</td>\n",
       "      <td>...</td>\n",
       "    </tr>\n",
       "    <tr>\n",
       "      <th>4114</th>\n",
       "      <td>30</td>\n",
       "      <td>admin.</td>\n",
       "      <td>basic.6y</td>\n",
       "      <td>jul</td>\n",
       "      <td>1</td>\n",
       "      <td>0</td>\n",
       "      <td>nonexistent</td>\n",
       "      <td>no</td>\n",
       "    </tr>\n",
       "    <tr>\n",
       "      <th>4115</th>\n",
       "      <td>39</td>\n",
       "      <td>admin.</td>\n",
       "      <td>high.school</td>\n",
       "      <td>jul</td>\n",
       "      <td>1</td>\n",
       "      <td>0</td>\n",
       "      <td>nonexistent</td>\n",
       "      <td>no</td>\n",
       "    </tr>\n",
       "    <tr>\n",
       "      <th>4116</th>\n",
       "      <td>27</td>\n",
       "      <td>student</td>\n",
       "      <td>high.school</td>\n",
       "      <td>may</td>\n",
       "      <td>2</td>\n",
       "      <td>1</td>\n",
       "      <td>failure</td>\n",
       "      <td>no</td>\n",
       "    </tr>\n",
       "    <tr>\n",
       "      <th>4117</th>\n",
       "      <td>58</td>\n",
       "      <td>admin.</td>\n",
       "      <td>high.school</td>\n",
       "      <td>aug</td>\n",
       "      <td>1</td>\n",
       "      <td>0</td>\n",
       "      <td>nonexistent</td>\n",
       "      <td>no</td>\n",
       "    </tr>\n",
       "    <tr>\n",
       "      <th>4118</th>\n",
       "      <td>34</td>\n",
       "      <td>management</td>\n",
       "      <td>high.school</td>\n",
       "      <td>nov</td>\n",
       "      <td>1</td>\n",
       "      <td>0</td>\n",
       "      <td>nonexistent</td>\n",
       "      <td>no</td>\n",
       "    </tr>\n",
       "  </tbody>\n",
       "</table>\n",
       "<p>4119 rows × 8 columns</p>\n",
       "</div>"
      ],
      "text/plain": [
       "      age          job          education month  campaign  previous  \\\n",
       "0      30  blue-collar           basic.9y   may         2         0   \n",
       "1      39     services        high.school   may         4         0   \n",
       "2      25     services        high.school   jun         1         0   \n",
       "3      38     services           basic.9y   jun         3         0   \n",
       "4      47       admin.  university.degree   nov         1         0   \n",
       "...   ...          ...                ...   ...       ...       ...   \n",
       "4114   30       admin.           basic.6y   jul         1         0   \n",
       "4115   39       admin.        high.school   jul         1         0   \n",
       "4116   27      student        high.school   may         2         1   \n",
       "4117   58       admin.        high.school   aug         1         0   \n",
       "4118   34   management        high.school   nov         1         0   \n",
       "\n",
       "         poutcome   y  \n",
       "0     nonexistent  no  \n",
       "1     nonexistent  no  \n",
       "2     nonexistent  no  \n",
       "3     nonexistent  no  \n",
       "4     nonexistent  no  \n",
       "...           ...  ..  \n",
       "4114  nonexistent  no  \n",
       "4115  nonexistent  no  \n",
       "4116      failure  no  \n",
       "4117  nonexistent  no  \n",
       "4118  nonexistent  no  \n",
       "\n",
       "[4119 rows x 8 columns]"
      ]
     },
     "execution_count": 10,
     "metadata": {},
     "output_type": "execute_result"
    }
   ],
   "source": [
    "bank_df_2"
   ]
  },
  {
   "cell_type": "code",
   "execution_count": 11,
   "id": "6ad531be-3f12-4e60-964e-55ec709aa94c",
   "metadata": {},
   "outputs": [],
   "source": [
    "import matplotlib.pyplot as plt\n",
    "import matplotlib\n",
    "import seaborn as sns\n",
    "matplotlib.style.use('dark_background') # usar este style si usas el theme oscuro del jupyter notebook"
   ]
  },
  {
   "cell_type": "code",
   "execution_count": 12,
   "id": "f4eca722-d899-495b-bbaf-9850e27c38c3",
   "metadata": {},
   "outputs": [
    {
     "data": {
      "image/png": "[encoded data removed]",
      "text/plain": [
       "<Figure size 1500x500 with 1 Axes>"
      ]
     },
     "metadata": {},
     "output_type": "display_data"
    }
   ],
   "source": [
    "fig, ax = plt.subplots(1,1, figsize=(15,5)) # creamos el lienzo\n",
    "\n",
    "sns.histplot(data=bank_df_2['campaign'], kde=True)\n",
    "ax.set_title('Frecuencia de campañas', fontsize=20)\n",
    "plt.xticks(range(1,36,+1));"
   ]
  },
  {
   "cell_type": "code",
   "execution_count": 13,
   "id": "7ebc1e92-3abc-4187-9848-82a63f35c61d",
   "metadata": {},
   "outputs": [
    {
     "data": {
      "text/html": [
       "<div>\n",
       "<style scoped>\n",
       "    .dataframe tbody tr th:only-of-type {\n",
       "        vertical-align: middle;\n",
       "    }\n",
       "\n",
       "    .dataframe tbody tr th {\n",
       "        vertical-align: top;\n",
       "    }\n",
       "\n",
       "    .dataframe thead th {\n",
       "        text-align: right;\n",
       "    }\n",
       "</style>\n",
       "<table border=\"1\" class=\"dataframe\">\n",
       "  <thead>\n",
       "    <tr style=\"text-align: right;\">\n",
       "      <th></th>\n",
       "      <th>age</th>\n",
       "      <th>job</th>\n",
       "      <th>education</th>\n",
       "      <th>month</th>\n",
       "      <th>campaign</th>\n",
       "      <th>previous</th>\n",
       "      <th>poutcome</th>\n",
       "      <th>y</th>\n",
       "    </tr>\n",
       "  </thead>\n",
       "  <tbody>\n",
       "    <tr>\n",
       "      <th>3319</th>\n",
       "      <td>49</td>\n",
       "      <td>technician</td>\n",
       "      <td>professional.course</td>\n",
       "      <td>jul</td>\n",
       "      <td>12</td>\n",
       "      <td>0</td>\n",
       "      <td>nonexistent</td>\n",
       "      <td>no</td>\n",
       "    </tr>\n",
       "    <tr>\n",
       "      <th>1216</th>\n",
       "      <td>45</td>\n",
       "      <td>services</td>\n",
       "      <td>high.school</td>\n",
       "      <td>may</td>\n",
       "      <td>12</td>\n",
       "      <td>0</td>\n",
       "      <td>nonexistent</td>\n",
       "      <td>no</td>\n",
       "    </tr>\n",
       "    <tr>\n",
       "      <th>3433</th>\n",
       "      <td>30</td>\n",
       "      <td>management</td>\n",
       "      <td>high.school</td>\n",
       "      <td>aug</td>\n",
       "      <td>12</td>\n",
       "      <td>0</td>\n",
       "      <td>nonexistent</td>\n",
       "      <td>no</td>\n",
       "    </tr>\n",
       "    <tr>\n",
       "      <th>2108</th>\n",
       "      <td>32</td>\n",
       "      <td>services</td>\n",
       "      <td>high.school</td>\n",
       "      <td>may</td>\n",
       "      <td>12</td>\n",
       "      <td>0</td>\n",
       "      <td>nonexistent</td>\n",
       "      <td>no</td>\n",
       "    </tr>\n",
       "    <tr>\n",
       "      <th>836</th>\n",
       "      <td>31</td>\n",
       "      <td>blue-collar</td>\n",
       "      <td>basic.6y</td>\n",
       "      <td>jun</td>\n",
       "      <td>12</td>\n",
       "      <td>0</td>\n",
       "      <td>nonexistent</td>\n",
       "      <td>no</td>\n",
       "    </tr>\n",
       "    <tr>\n",
       "      <th>...</th>\n",
       "      <td>...</td>\n",
       "      <td>...</td>\n",
       "      <td>...</td>\n",
       "      <td>...</td>\n",
       "      <td>...</td>\n",
       "      <td>...</td>\n",
       "      <td>...</td>\n",
       "      <td>...</td>\n",
       "    </tr>\n",
       "    <tr>\n",
       "      <th>2485</th>\n",
       "      <td>41</td>\n",
       "      <td>technician</td>\n",
       "      <td>high.school</td>\n",
       "      <td>jun</td>\n",
       "      <td>24</td>\n",
       "      <td>0</td>\n",
       "      <td>nonexistent</td>\n",
       "      <td>no</td>\n",
       "    </tr>\n",
       "    <tr>\n",
       "      <th>56</th>\n",
       "      <td>29</td>\n",
       "      <td>admin.</td>\n",
       "      <td>university.degree</td>\n",
       "      <td>jun</td>\n",
       "      <td>27</td>\n",
       "      <td>0</td>\n",
       "      <td>nonexistent</td>\n",
       "      <td>no</td>\n",
       "    </tr>\n",
       "    <tr>\n",
       "      <th>3564</th>\n",
       "      <td>25</td>\n",
       "      <td>admin.</td>\n",
       "      <td>basic.9y</td>\n",
       "      <td>jul</td>\n",
       "      <td>29</td>\n",
       "      <td>0</td>\n",
       "      <td>nonexistent</td>\n",
       "      <td>no</td>\n",
       "    </tr>\n",
       "    <tr>\n",
       "      <th>3241</th>\n",
       "      <td>39</td>\n",
       "      <td>services</td>\n",
       "      <td>high.school</td>\n",
       "      <td>jul</td>\n",
       "      <td>29</td>\n",
       "      <td>0</td>\n",
       "      <td>nonexistent</td>\n",
       "      <td>no</td>\n",
       "    </tr>\n",
       "    <tr>\n",
       "      <th>2552</th>\n",
       "      <td>31</td>\n",
       "      <td>services</td>\n",
       "      <td>high.school</td>\n",
       "      <td>jul</td>\n",
       "      <td>35</td>\n",
       "      <td>0</td>\n",
       "      <td>nonexistent</td>\n",
       "      <td>no</td>\n",
       "    </tr>\n",
       "  </tbody>\n",
       "</table>\n",
       "<p>68 rows × 8 columns</p>\n",
       "</div>"
      ],
      "text/plain": [
       "      age          job            education month  campaign  previous  \\\n",
       "3319   49   technician  professional.course   jul        12         0   \n",
       "1216   45     services          high.school   may        12         0   \n",
       "3433   30   management          high.school   aug        12         0   \n",
       "2108   32     services          high.school   may        12         0   \n",
       "836    31  blue-collar             basic.6y   jun        12         0   \n",
       "...   ...          ...                  ...   ...       ...       ...   \n",
       "2485   41   technician          high.school   jun        24         0   \n",
       "56     29       admin.    university.degree   jun        27         0   \n",
       "3564   25       admin.             basic.9y   jul        29         0   \n",
       "3241   39     services          high.school   jul        29         0   \n",
       "2552   31     services          high.school   jul        35         0   \n",
       "\n",
       "         poutcome   y  \n",
       "3319  nonexistent  no  \n",
       "1216  nonexistent  no  \n",
       "3433  nonexistent  no  \n",
       "2108  nonexistent  no  \n",
       "836   nonexistent  no  \n",
       "...           ...  ..  \n",
       "2485  nonexistent  no  \n",
       "56    nonexistent  no  \n",
       "3564  nonexistent  no  \n",
       "3241  nonexistent  no  \n",
       "2552  nonexistent  no  \n",
       "\n",
       "[68 rows x 8 columns]"
      ]
     },
     "execution_count": 13,
     "metadata": {},
     "output_type": "execute_result"
    }
   ],
   "source": [
    "bank_df_2[bank_df_2['campaign'] > 11].sort_values(by='campaign') # filtro y ordeno las campañas por su valor nominal para compara y entender la curva anterior"
   ]
  },
  {
   "cell_type": "markdown",
   "id": "12823936-a47e-454c-add0-479523bcd275",
   "metadata": {},
   "source": [
    "####  ¿Cuales fueron las campañas más exitosas?, ¿las que tuvieron mejores resultados?"
   ]
  },
  {
   "cell_type": "code",
   "execution_count": 14,
   "id": "ad63850c-e5d7-4028-a042-151ffdf7180e",
   "metadata": {},
   "outputs": [
    {
     "data": {
      "text/plain": [
       "campaign\n",
       "1     219\n",
       "2     119\n",
       "3      62\n",
       "4      32\n",
       "5       9\n",
       "6       4\n",
       "7       1\n",
       "8       2\n",
       "9       1\n",
       "10      1\n",
       "11      1\n",
       "Name: y, dtype: int64"
      ]
     },
     "execution_count": 14,
     "metadata": {},
     "output_type": "execute_result"
    }
   ],
   "source": [
    "# agrupamos los datos por campaña y contamos la cantidad de 'yes' en la columna 'y'\n",
    "camp_yes = bank_df_2[bank_df_2['y'] == 'yes'].groupby('campaign')['y'].count()\n",
    "camp_yes"
   ]
  },
  {
   "cell_type": "code",
   "execution_count": 15,
   "id": "e976e03d-1926-4216-a2fe-6326c8062634",
   "metadata": {},
   "outputs": [],
   "source": [
    "# creamos las variables para los ejes del gráfico, utilizaremos un barplot, para comparar\n",
    "x = camp_yes.index\n",
    "y = camp_yes.values"
   ]
  },
  {
   "cell_type": "code",
   "execution_count": 16,
   "id": "8d0a1a22-1f76-40f6-b316-dae5ca4914c6",
   "metadata": {},
   "outputs": [
    {
     "data": {
      "image/png": "[encoded data removed]",
      "text/plain": [
       "<Figure size 500x500 with 1 Axes>"
      ]
     },
     "metadata": {},
     "output_type": "display_data"
    }
   ],
   "source": [
    "fig, ax = plt.subplots(1,1, figsize=(5,5))\n",
    "sns.barplot(x=x, y=y)\n",
    "ax.set_ylabel('Cantidad de Yes', fontsize=(14))\n",
    "ax.set_xlabel('Número de camapaña', fontsize=(14))\n",
    "ax.set_title('Cantidad de Yes por cada camapaña', fontsize=(16))\n",
    "plt.yticks(range(0,max(y)+25, +25)); # seteamos el rnago de ticks y su crecimiento"
   ]
  },
  {
   "cell_type": "code",
   "execution_count": 17,
   "id": "dd91efc2-30b9-4269-9b46-b3215e31a4ad",
   "metadata": {},
   "outputs": [
    {
     "data": {
      "text/plain": [
       "1     1764\n",
       "2     1039\n",
       "3      549\n",
       "4      291\n",
       "5      142\n",
       "6       99\n",
       "7       60\n",
       "8       36\n",
       "9       32\n",
       "10      20\n",
       "11      19\n",
       "12      16\n",
       "17      14\n",
       "13      11\n",
       "16       7\n",
       "14       6\n",
       "15       2\n",
       "22       2\n",
       "19       2\n",
       "23       2\n",
       "29       2\n",
       "27       1\n",
       "18       1\n",
       "24       1\n",
       "35       1\n",
       "Name: campaign, dtype: int64"
      ]
     },
     "execution_count": 17,
     "metadata": {},
     "output_type": "execute_result"
    }
   ],
   "source": [
    "# cuento cuantas campañas ahy en el dataset de cada una\n",
    "campaign_counts = bank_df['campaign'].value_counts()\n",
    "campaign_counts"
   ]
  },
  {
   "cell_type": "code",
   "execution_count": 18,
   "id": "a6ea97af-8bcd-4dd1-b014-3bb035ae47bd",
   "metadata": {},
   "outputs": [
    {
     "data": {
      "text/plain": [
       "campaign\n",
       "1     0.124150\n",
       "2     0.114533\n",
       "3     0.112933\n",
       "4     0.109966\n",
       "5     0.063380\n",
       "6     0.040404\n",
       "7     0.016667\n",
       "8     0.055556\n",
       "9     0.031250\n",
       "10    0.050000\n",
       "11    0.052632\n",
       "12    0.000000\n",
       "13    0.000000\n",
       "14    0.000000\n",
       "15    0.000000\n",
       "16    0.000000\n",
       "17    0.000000\n",
       "18    0.000000\n",
       "19    0.000000\n",
       "22    0.000000\n",
       "23    0.000000\n",
       "24    0.000000\n",
       "27    0.000000\n",
       "29    0.000000\n",
       "35    0.000000\n",
       "Name: y, dtype: float64"
      ]
     },
     "execution_count": 18,
     "metadata": {},
     "output_type": "execute_result"
    }
   ],
   "source": [
    "# ahora me interesaría ver cual es la proporción de 'yes' para cada grupo de camapañas, asi podemos estimar su éxito\n",
    "proporcion = bank_df_2.groupby('campaign')['y'].apply(lambda x: (x == 'yes').mean())\n",
    "proporcion"
   ]
  },
  {
   "cell_type": "code",
   "execution_count": 19,
   "id": "51df7f85-c736-48f3-8802-a95fce8d5cc3",
   "metadata": {},
   "outputs": [
    {
     "data": {
      "image/png": "[encoded data removed]",
      "text/plain": [
       "<Figure size 1000x500 with 1 Axes>"
      ]
     },
     "metadata": {},
     "output_type": "display_data"
    }
   ],
   "source": [
    "fig, ax = plt.subplots(1,1, figsize=(10,5)) # inicio con el lienzo\n",
    "sns.boxplot(data= bank_df_2, x='campaign', y='y') # de donde obtiene los datos\n",
    "plt.xticks(range(0, max(bank_df['campaign'])+1, +1)) # con esta linea le cambiamos los ticks del eje X para darle más visibilidad y que no se amontonen\n",
    "ax.set_title('Boxplot de aceptacion o rechazo de campañas', fontsize=17) # titulos..\n",
    "ax.set_xlabel('Cantidad de campañas') # labels, nada que explicar\n",
    "ax.set_ylabel('Aceptación del servicio bancario');"
   ]
  },
  {
   "cell_type": "markdown",
   "id": "08e4c82d-f74b-4bc9-b46a-4bfdeeb19b91",
   "metadata": {},
   "source": [
    "#### ¿Que ocupaciones tendrán las personas que más contratan los servicios del banco?"
   ]
  },
  {
   "cell_type": "code",
   "execution_count": 20,
   "id": "f9f484cf-c5b1-4ba3-91cd-e6d4b34dfe8e",
   "metadata": {},
   "outputs": [
    {
     "data": {
      "text/plain": [
       "job\n",
       "admin.           0.131423\n",
       "blue-collar      0.069005\n",
       "entrepreneur     0.054054\n",
       "housemaid        0.100000\n",
       "management       0.092593\n",
       "retired          0.228916\n",
       "self-employed    0.081761\n",
       "services         0.089059\n",
       "student          0.231707\n",
       "technician       0.115774\n",
       "unemployed       0.171171\n",
       "unknown          0.102564\n",
       "Name: y, dtype: float64"
      ]
     },
     "execution_count": 20,
     "metadata": {},
     "output_type": "execute_result"
    }
   ],
   "source": [
    "proporcion_job = bank_df_2.groupby('job')['y'].apply(lambda x: (x == 'yes').mean())\n",
    "proporcion_job"
   ]
  },
  {
   "cell_type": "code",
   "execution_count": 21,
   "id": "387083bc-5b1a-4915-90e9-f8415df1fc99",
   "metadata": {},
   "outputs": [
    {
     "data": {
      "text/plain": [
       "array(['admin.', 'blue-collar', 'entrepreneur', 'housemaid', 'management',\n",
       "       'retired', 'self-employed', 'services', 'student', 'technician',\n",
       "       'unemployed', 'unknown'], dtype=object)"
      ]
     },
     "execution_count": 21,
     "metadata": {},
     "output_type": "execute_result"
    }
   ],
   "source": [
    "bar_labels = bank_df_2['job'].values\n",
    "bar_labels = np.unique(bar_labels)\n",
    "bar_labels"
   ]
  },
  {
   "cell_type": "code",
   "execution_count": 36,
   "id": "b32b6515-d0c8-4995-99ce-c9a219aae47d",
   "metadata": {},
   "outputs": [
    {
     "data": {
      "image/png": "[encoded data removed]",
      "text/plain": [
       "<Figure size 500x500 with 1 Axes>"
      ]
     },
     "metadata": {},
     "output_type": "display_data"
    }
   ],
   "source": [
    "fig, ax = plt.subplots(1,1, figsize=(5,5))\n",
    "ax.pie(proporcion_job, labels=bar_labels, autopct=\"%1.1f%%\") #agregamos esta linea para ponerle los %% dentro del gráfico, por defecto quedan por fuera.\n",
    "ax.set_title('Proporcion de exito de las campañas por tipo de \"Trabajo\" ')\n",
    "for text in ax.texts:\n",
    "  text.set_color('blue'); # cambié el color"
   ]
  },
  {
   "cell_type": "code",
   "execution_count": 38,
   "id": "6e684863-b933-47fc-9067-e31ef5740520",
   "metadata": {},
   "outputs": [
    {
     "data": {
      "image/png": "[encoded data removed]",
      "text/plain": [
       "<Figure size 500x500 with 1 Axes>"
      ]
     },
     "metadata": {},
     "output_type": "display_data"
    }
   ],
   "source": [
    "fig, ax = plt.subplots(1,1, figsize=(5,5))\n",
    "sns.barplot(x=bar_labels, y=proporcion_job)\n",
    "ax.set_ylabel('% de aceptación', fontsize=(14))\n",
    "ax.set_xlabel('Tipo de trabajo', fontsize=(14))\n",
    "ax.set_title('Proporcion de exito de las campañas por tipo de Trabajo ', fontsize=(16))\n",
    "ax.tick_params(axis='x', rotation=80); # giramos el texto de los labels del eje x para su correcta lectura"
   ]
  },
  {
   "cell_type": "markdown",
   "id": "6c83699e-c5a1-4c84-b95e-507f9721f390",
   "metadata": {},
   "source": [
    "#### ¿Son las campañas telefónicas más efectivas entre las personas con estudios alcanzados más elevados?"
   ]
  },
  {
   "cell_type": "code",
   "execution_count": null,
   "id": "09126e41-b01c-4703-a564-21f245cb8a5d",
   "metadata": {},
   "outputs": [],
   "source": [
    "proporcion_education = bank_df_2.groupby('education')['y'].apply(lambda x: (x == 'yes').mean())\n",
    "proporcion_education"
   ]
  },
  {
   "cell_type": "code",
   "execution_count": null,
   "id": "717a470b-8c81-435e-88f5-24bdef559f48",
   "metadata": {},
   "outputs": [],
   "source": [
    "bar_labels_education = bank_df_2['education'].values\n",
    "bar_labels_education = np.unique(bar_labels_education)\n",
    "bar_labels_education"
   ]
  },
  {
   "cell_type": "code",
   "execution_count": null,
   "id": "e18ee1e6-be14-4820-a047-019d5a8a527c",
   "metadata": {},
   "outputs": [],
   "source": [
    "fig, ax = plt.subplots(1,1, figsize=(5,5))\n",
    "sns.barplot(x=bar_labels_education, y=proporcion_education)\n",
    "ax.set_ylabel('% de aceptación', fontsize=(14))\n",
    "ax.set_xlabel('Tipo de trabajo', fontsize=(14))\n",
    "ax.set_title('Proporcion de exito de las campañas por nivel educativo ', fontsize=(16))\n",
    "ax.tick_params(axis='x', rotation=75); # giramos el texto de los labels del eje x para su correcta lectura"
   ]
  },
  {
   "cell_type": "code",
   "execution_count": null,
   "id": "0d6c672b-8205-472a-9e0b-96e3bef62b49",
   "metadata": {},
   "outputs": [],
   "source": [
    "fig, ax = plt.subplots(1,1, figsize=(5,5))\n",
    "ax.pie(proporcion_education, labels=bar_labels_education, autopct=\"%1.1f%%\") #agregamos esta linea para ponerle los %% dentro del gráfico, por defecto quedan por fuera.\n",
    "ax.set_title('Proporcion de exito de las campañas por nivel educativo ')\n",
    "for text in ax.texts:\n",
    "  text.set_color('blue'); # cambié el color"
   ]
  },
  {
   "cell_type": "markdown",
   "id": "0818c989-4978-44dd-8bd4-b95d4679903f",
   "metadata": {},
   "source": [
    "## Con clusiones del EDA\n",
    "Con los analisis estadísticos realizados podemos concluir que:\n",
    "A pesar de repetir campañas, los clientes que eligen no contratar los servicios, es dificil que se los pueda convencer con insistencia al largo plazo, hay un exito notable en las primeras 4 campañas, pero a partir de la 4ta campaña el exito disminuye muchísimo\n",
    "\n",
    "también observamos que las ocupaciones de los alcanzados por las camapañas que más concretan la suscripción al servicio bancario son los estudiantes, seguimos muy de cerca por retirados, luego desempleados con un buen margen y pegadito a ellos en 4to lugar los administrativos.\n",
    "\n",
    "Por otro lado, el nivel educativo parece estar más igualado pero se puede notar que los profesionales y universitarios son mayoría entre las camapañas exitosas, lo cual nos puede ayudar a elegir mejor a quien apuntar próximas campañas"
   ]
  },
  {
   "cell_type": "markdown",
   "id": "ccdb8824-4d82-4459-ba1c-0cfe17e2f9ac",
   "metadata": {},
   "source": [
    "## 6ta fase: Data Wrangling"
   ]
  },
  {
   "cell_type": "markdown",
   "id": "5a57444e-3232-415c-b46e-f7f29ffa7e4e",
   "metadata": {},
   "source": [
    "##### Comenzamos verificando si hay NaN"
   ]
  },
  {
   "cell_type": "code",
   "execution_count": null,
   "id": "f3e2a506-0c38-4b0f-aa31-3cdbc476a44e",
   "metadata": {},
   "outputs": [],
   "source": [
    "bank_df_2.isnull().sum()"
   ]
  },
  {
   "cell_type": "code",
   "execution_count": 23,
   "id": "43da5142-d5dc-4576-9427-9fda6be642a9",
   "metadata": {},
   "outputs": [
    {
     "data": {
      "text/html": [
       "<div>\n",
       "<style scoped>\n",
       "    .dataframe tbody tr th:only-of-type {\n",
       "        vertical-align: middle;\n",
       "    }\n",
       "\n",
       "    .dataframe tbody tr th {\n",
       "        vertical-align: top;\n",
       "    }\n",
       "\n",
       "    .dataframe thead th {\n",
       "        text-align: right;\n",
       "    }\n",
       "</style>\n",
       "<table border=\"1\" class=\"dataframe\">\n",
       "  <thead>\n",
       "    <tr style=\"text-align: right;\">\n",
       "      <th></th>\n",
       "      <th>age</th>\n",
       "      <th>job</th>\n",
       "      <th>education</th>\n",
       "      <th>month</th>\n",
       "      <th>campaign</th>\n",
       "      <th>previous</th>\n",
       "      <th>poutcome</th>\n",
       "      <th>y</th>\n",
       "    </tr>\n",
       "  </thead>\n",
       "  <tbody>\n",
       "    <tr>\n",
       "      <th>0</th>\n",
       "      <td>30</td>\n",
       "      <td>blue-collar</td>\n",
       "      <td>basic.9y</td>\n",
       "      <td>may</td>\n",
       "      <td>2</td>\n",
       "      <td>0</td>\n",
       "      <td>nonexistent</td>\n",
       "      <td>no</td>\n",
       "    </tr>\n",
       "    <tr>\n",
       "      <th>1</th>\n",
       "      <td>39</td>\n",
       "      <td>services</td>\n",
       "      <td>high.school</td>\n",
       "      <td>may</td>\n",
       "      <td>4</td>\n",
       "      <td>0</td>\n",
       "      <td>nonexistent</td>\n",
       "      <td>no</td>\n",
       "    </tr>\n",
       "    <tr>\n",
       "      <th>2</th>\n",
       "      <td>25</td>\n",
       "      <td>services</td>\n",
       "      <td>high.school</td>\n",
       "      <td>jun</td>\n",
       "      <td>1</td>\n",
       "      <td>0</td>\n",
       "      <td>nonexistent</td>\n",
       "      <td>no</td>\n",
       "    </tr>\n",
       "    <tr>\n",
       "      <th>3</th>\n",
       "      <td>38</td>\n",
       "      <td>services</td>\n",
       "      <td>basic.9y</td>\n",
       "      <td>jun</td>\n",
       "      <td>3</td>\n",
       "      <td>0</td>\n",
       "      <td>nonexistent</td>\n",
       "      <td>no</td>\n",
       "    </tr>\n",
       "    <tr>\n",
       "      <th>4</th>\n",
       "      <td>47</td>\n",
       "      <td>admin.</td>\n",
       "      <td>university.degree</td>\n",
       "      <td>nov</td>\n",
       "      <td>1</td>\n",
       "      <td>0</td>\n",
       "      <td>nonexistent</td>\n",
       "      <td>no</td>\n",
       "    </tr>\n",
       "    <tr>\n",
       "      <th>...</th>\n",
       "      <td>...</td>\n",
       "      <td>...</td>\n",
       "      <td>...</td>\n",
       "      <td>...</td>\n",
       "      <td>...</td>\n",
       "      <td>...</td>\n",
       "      <td>...</td>\n",
       "      <td>...</td>\n",
       "    </tr>\n",
       "    <tr>\n",
       "      <th>4114</th>\n",
       "      <td>30</td>\n",
       "      <td>admin.</td>\n",
       "      <td>basic.6y</td>\n",
       "      <td>jul</td>\n",
       "      <td>1</td>\n",
       "      <td>0</td>\n",
       "      <td>nonexistent</td>\n",
       "      <td>no</td>\n",
       "    </tr>\n",
       "    <tr>\n",
       "      <th>4115</th>\n",
       "      <td>39</td>\n",
       "      <td>admin.</td>\n",
       "      <td>high.school</td>\n",
       "      <td>jul</td>\n",
       "      <td>1</td>\n",
       "      <td>0</td>\n",
       "      <td>nonexistent</td>\n",
       "      <td>no</td>\n",
       "    </tr>\n",
       "    <tr>\n",
       "      <th>4116</th>\n",
       "      <td>27</td>\n",
       "      <td>student</td>\n",
       "      <td>high.school</td>\n",
       "      <td>may</td>\n",
       "      <td>2</td>\n",
       "      <td>1</td>\n",
       "      <td>failure</td>\n",
       "      <td>no</td>\n",
       "    </tr>\n",
       "    <tr>\n",
       "      <th>4117</th>\n",
       "      <td>58</td>\n",
       "      <td>admin.</td>\n",
       "      <td>high.school</td>\n",
       "      <td>aug</td>\n",
       "      <td>1</td>\n",
       "      <td>0</td>\n",
       "      <td>nonexistent</td>\n",
       "      <td>no</td>\n",
       "    </tr>\n",
       "    <tr>\n",
       "      <th>4118</th>\n",
       "      <td>34</td>\n",
       "      <td>management</td>\n",
       "      <td>high.school</td>\n",
       "      <td>nov</td>\n",
       "      <td>1</td>\n",
       "      <td>0</td>\n",
       "      <td>nonexistent</td>\n",
       "      <td>no</td>\n",
       "    </tr>\n",
       "  </tbody>\n",
       "</table>\n",
       "<p>4107 rows × 8 columns</p>\n",
       "</div>"
      ],
      "text/plain": [
       "      age          job          education month  campaign  previous  \\\n",
       "0      30  blue-collar           basic.9y   may         2         0   \n",
       "1      39     services        high.school   may         4         0   \n",
       "2      25     services        high.school   jun         1         0   \n",
       "3      38     services           basic.9y   jun         3         0   \n",
       "4      47       admin.  university.degree   nov         1         0   \n",
       "...   ...          ...                ...   ...       ...       ...   \n",
       "4114   30       admin.           basic.6y   jul         1         0   \n",
       "4115   39       admin.        high.school   jul         1         0   \n",
       "4116   27      student        high.school   may         2         1   \n",
       "4117   58       admin.        high.school   aug         1         0   \n",
       "4118   34   management        high.school   nov         1         0   \n",
       "\n",
       "         poutcome   y  \n",
       "0     nonexistent  no  \n",
       "1     nonexistent  no  \n",
       "2     nonexistent  no  \n",
       "3     nonexistent  no  \n",
       "4     nonexistent  no  \n",
       "...           ...  ..  \n",
       "4114  nonexistent  no  \n",
       "4115  nonexistent  no  \n",
       "4116      failure  no  \n",
       "4117  nonexistent  no  \n",
       "4118  nonexistent  no  \n",
       "\n",
       "[4107 rows x 8 columns]"
      ]
     },
     "execution_count": 23,
     "metadata": {},
     "output_type": "execute_result"
    }
   ],
   "source": [
    "bank_df_3 = bank_df_2.loc[bank_df_2['campaign'] <= 17]\n",
    "bank_df_3"
   ]
  },
  {
   "cell_type": "markdown",
   "id": "865a1ce0-ee0b-4853-ae2d-19ddfd460703",
   "metadata": {},
   "source": [
    "#### al no tener NaN nos ahorramos las imputaciones y ya limpiamos los features que no usaríamos en el analisis en la fase de EDA. Y limpiamos los outliers de campañas superiores a la 13va (pasamos de 4119 a 4107 registros)"
   ]
  },
  {
   "cell_type": "markdown",
   "id": "388488e4-7448-4ca4-ab5f-a090c7360e68",
   "metadata": {},
   "source": [
    "## 7ma fase: Selección del algorítmo de Machine Learning\n",
    "como se trata de un problema de clasificación voy a elegir 2 modelos que sobresalen en estos casos: DecisionTreeClassifier y RandomForestClassifier. para lo cual vamos a necesitar un encoding de las variables job y education que realizaré en el siguiente apartado, la fase 8: Desarrollo del algoritmo"
   ]
  },
  {
   "cell_type": "markdown",
   "id": "11f127b3-9ed7-4590-a03c-e80890343403",
   "metadata": {},
   "source": [
    "## 8va fase: Desarrollo del algoritmo\n",
    "primero vamos a verificar los coeficientes de correlación de las variables predictoras y objetivo, luego pasamos al encoding de las variables y ya depsues entrenamos los modelos."
   ]
  },
  {
   "cell_type": "code",
   "execution_count": 25,
   "id": "4766915f-7b8e-47cd-ae51-372b6f89f6f0",
   "metadata": {},
   "outputs": [],
   "source": [
    "# vamos a importar las librerias que usaremos  en este apartado, incluimos SVC para testear ese algoritmo\n",
    "from sklearn.preprocessing import LabelEncoder # la libreria para del encoder\n",
    "from sklearn.tree import DecisionTreeClassifier # estas 3 lineas son para los algoritmos de entrenamiento\n",
    "from sklearn.ensemble import RandomForestClassifier\n",
    "from sklearn.svm import SVC"
   ]
  },
  {
   "cell_type": "code",
   "execution_count": 39,
   "id": "4e9a6836-6ccc-4d88-98fb-70c0343dfbd6",
   "metadata": {},
   "outputs": [
    {
     "name": "stderr",
     "output_type": "stream",
     "text": [
      "C:\\Users\\guill\\AppData\\Local\\Temp\\ipykernel_9104\\3764503021.py:2: SettingWithCopyWarning: \n",
      "A value is trying to be set on a copy of a slice from a DataFrame.\n",
      "Try using .loc[row_indexer,col_indexer] = value instead\n",
      "\n",
      "See the caveats in the documentation: https://pandas.pydata.org/pandas-docs/stable/user_guide/indexing.html#returning-a-view-versus-a-copy\n",
      "  bank_df_3['y codif'] = bank_df_3['y'].map({'yes': 1, 'no': 0})\n"
     ]
    },
    {
     "data": {
      "text/html": [
       "<div>\n",
       "<style scoped>\n",
       "    .dataframe tbody tr th:only-of-type {\n",
       "        vertical-align: middle;\n",
       "    }\n",
       "\n",
       "    .dataframe tbody tr th {\n",
       "        vertical-align: top;\n",
       "    }\n",
       "\n",
       "    .dataframe thead th {\n",
       "        text-align: right;\n",
       "    }\n",
       "</style>\n",
       "<table border=\"1\" class=\"dataframe\">\n",
       "  <thead>\n",
       "    <tr style=\"text-align: right;\">\n",
       "      <th></th>\n",
       "      <th>age</th>\n",
       "      <th>job</th>\n",
       "      <th>education</th>\n",
       "      <th>month</th>\n",
       "      <th>campaign</th>\n",
       "      <th>previous</th>\n",
       "      <th>poutcome</th>\n",
       "      <th>y</th>\n",
       "      <th>codif job</th>\n",
       "      <th>y codif</th>\n",
       "    </tr>\n",
       "  </thead>\n",
       "  <tbody>\n",
       "    <tr>\n",
       "      <th>0</th>\n",
       "      <td>30</td>\n",
       "      <td>blue-collar</td>\n",
       "      <td>basic.9y</td>\n",
       "      <td>may</td>\n",
       "      <td>2</td>\n",
       "      <td>0</td>\n",
       "      <td>nonexistent</td>\n",
       "      <td>no</td>\n",
       "      <td>1</td>\n",
       "      <td>0</td>\n",
       "    </tr>\n",
       "    <tr>\n",
       "      <th>1</th>\n",
       "      <td>39</td>\n",
       "      <td>services</td>\n",
       "      <td>high.school</td>\n",
       "      <td>may</td>\n",
       "      <td>4</td>\n",
       "      <td>0</td>\n",
       "      <td>nonexistent</td>\n",
       "      <td>no</td>\n",
       "      <td>7</td>\n",
       "      <td>0</td>\n",
       "    </tr>\n",
       "    <tr>\n",
       "      <th>2</th>\n",
       "      <td>25</td>\n",
       "      <td>services</td>\n",
       "      <td>high.school</td>\n",
       "      <td>jun</td>\n",
       "      <td>1</td>\n",
       "      <td>0</td>\n",
       "      <td>nonexistent</td>\n",
       "      <td>no</td>\n",
       "      <td>7</td>\n",
       "      <td>0</td>\n",
       "    </tr>\n",
       "    <tr>\n",
       "      <th>3</th>\n",
       "      <td>38</td>\n",
       "      <td>services</td>\n",
       "      <td>basic.9y</td>\n",
       "      <td>jun</td>\n",
       "      <td>3</td>\n",
       "      <td>0</td>\n",
       "      <td>nonexistent</td>\n",
       "      <td>no</td>\n",
       "      <td>7</td>\n",
       "      <td>0</td>\n",
       "    </tr>\n",
       "    <tr>\n",
       "      <th>4</th>\n",
       "      <td>47</td>\n",
       "      <td>admin.</td>\n",
       "      <td>university.degree</td>\n",
       "      <td>nov</td>\n",
       "      <td>1</td>\n",
       "      <td>0</td>\n",
       "      <td>nonexistent</td>\n",
       "      <td>no</td>\n",
       "      <td>0</td>\n",
       "      <td>0</td>\n",
       "    </tr>\n",
       "    <tr>\n",
       "      <th>5</th>\n",
       "      <td>32</td>\n",
       "      <td>services</td>\n",
       "      <td>university.degree</td>\n",
       "      <td>sep</td>\n",
       "      <td>3</td>\n",
       "      <td>2</td>\n",
       "      <td>failure</td>\n",
       "      <td>no</td>\n",
       "      <td>7</td>\n",
       "      <td>0</td>\n",
       "    </tr>\n",
       "    <tr>\n",
       "      <th>6</th>\n",
       "      <td>32</td>\n",
       "      <td>admin.</td>\n",
       "      <td>university.degree</td>\n",
       "      <td>sep</td>\n",
       "      <td>4</td>\n",
       "      <td>0</td>\n",
       "      <td>nonexistent</td>\n",
       "      <td>no</td>\n",
       "      <td>0</td>\n",
       "      <td>0</td>\n",
       "    </tr>\n",
       "    <tr>\n",
       "      <th>7</th>\n",
       "      <td>41</td>\n",
       "      <td>entrepreneur</td>\n",
       "      <td>university.degree</td>\n",
       "      <td>nov</td>\n",
       "      <td>2</td>\n",
       "      <td>0</td>\n",
       "      <td>nonexistent</td>\n",
       "      <td>no</td>\n",
       "      <td>2</td>\n",
       "      <td>0</td>\n",
       "    </tr>\n",
       "    <tr>\n",
       "      <th>8</th>\n",
       "      <td>31</td>\n",
       "      <td>services</td>\n",
       "      <td>professional.course</td>\n",
       "      <td>nov</td>\n",
       "      <td>1</td>\n",
       "      <td>1</td>\n",
       "      <td>failure</td>\n",
       "      <td>no</td>\n",
       "      <td>7</td>\n",
       "      <td>0</td>\n",
       "    </tr>\n",
       "    <tr>\n",
       "      <th>9</th>\n",
       "      <td>35</td>\n",
       "      <td>blue-collar</td>\n",
       "      <td>basic.9y</td>\n",
       "      <td>may</td>\n",
       "      <td>1</td>\n",
       "      <td>0</td>\n",
       "      <td>nonexistent</td>\n",
       "      <td>no</td>\n",
       "      <td>1</td>\n",
       "      <td>0</td>\n",
       "    </tr>\n",
       "    <tr>\n",
       "      <th>10</th>\n",
       "      <td>25</td>\n",
       "      <td>services</td>\n",
       "      <td>basic.6y</td>\n",
       "      <td>jul</td>\n",
       "      <td>1</td>\n",
       "      <td>0</td>\n",
       "      <td>nonexistent</td>\n",
       "      <td>no</td>\n",
       "      <td>7</td>\n",
       "      <td>0</td>\n",
       "    </tr>\n",
       "    <tr>\n",
       "      <th>11</th>\n",
       "      <td>36</td>\n",
       "      <td>self-employed</td>\n",
       "      <td>basic.4y</td>\n",
       "      <td>jul</td>\n",
       "      <td>1</td>\n",
       "      <td>0</td>\n",
       "      <td>nonexistent</td>\n",
       "      <td>no</td>\n",
       "      <td>6</td>\n",
       "      <td>0</td>\n",
       "    </tr>\n",
       "    <tr>\n",
       "      <th>12</th>\n",
       "      <td>36</td>\n",
       "      <td>admin.</td>\n",
       "      <td>high.school</td>\n",
       "      <td>may</td>\n",
       "      <td>2</td>\n",
       "      <td>0</td>\n",
       "      <td>nonexistent</td>\n",
       "      <td>no</td>\n",
       "      <td>0</td>\n",
       "      <td>0</td>\n",
       "    </tr>\n",
       "    <tr>\n",
       "      <th>13</th>\n",
       "      <td>47</td>\n",
       "      <td>blue-collar</td>\n",
       "      <td>basic.4y</td>\n",
       "      <td>jun</td>\n",
       "      <td>2</td>\n",
       "      <td>0</td>\n",
       "      <td>nonexistent</td>\n",
       "      <td>no</td>\n",
       "      <td>1</td>\n",
       "      <td>0</td>\n",
       "    </tr>\n",
       "    <tr>\n",
       "      <th>14</th>\n",
       "      <td>29</td>\n",
       "      <td>admin.</td>\n",
       "      <td>high.school</td>\n",
       "      <td>may</td>\n",
       "      <td>2</td>\n",
       "      <td>0</td>\n",
       "      <td>nonexistent</td>\n",
       "      <td>no</td>\n",
       "      <td>0</td>\n",
       "      <td>0</td>\n",
       "    </tr>\n",
       "    <tr>\n",
       "      <th>15</th>\n",
       "      <td>27</td>\n",
       "      <td>services</td>\n",
       "      <td>university.degree</td>\n",
       "      <td>jul</td>\n",
       "      <td>2</td>\n",
       "      <td>0</td>\n",
       "      <td>nonexistent</td>\n",
       "      <td>no</td>\n",
       "      <td>7</td>\n",
       "      <td>0</td>\n",
       "    </tr>\n",
       "    <tr>\n",
       "      <th>16</th>\n",
       "      <td>44</td>\n",
       "      <td>admin.</td>\n",
       "      <td>university.degree</td>\n",
       "      <td>jul</td>\n",
       "      <td>6</td>\n",
       "      <td>0</td>\n",
       "      <td>nonexistent</td>\n",
       "      <td>no</td>\n",
       "      <td>0</td>\n",
       "      <td>0</td>\n",
       "    </tr>\n",
       "    <tr>\n",
       "      <th>17</th>\n",
       "      <td>46</td>\n",
       "      <td>admin.</td>\n",
       "      <td>university.degree</td>\n",
       "      <td>jul</td>\n",
       "      <td>4</td>\n",
       "      <td>0</td>\n",
       "      <td>nonexistent</td>\n",
       "      <td>no</td>\n",
       "      <td>0</td>\n",
       "      <td>0</td>\n",
       "    </tr>\n",
       "    <tr>\n",
       "      <th>18</th>\n",
       "      <td>45</td>\n",
       "      <td>entrepreneur</td>\n",
       "      <td>university.degree</td>\n",
       "      <td>aug</td>\n",
       "      <td>2</td>\n",
       "      <td>0</td>\n",
       "      <td>nonexistent</td>\n",
       "      <td>no</td>\n",
       "      <td>2</td>\n",
       "      <td>0</td>\n",
       "    </tr>\n",
       "    <tr>\n",
       "      <th>19</th>\n",
       "      <td>50</td>\n",
       "      <td>blue-collar</td>\n",
       "      <td>basic.4y</td>\n",
       "      <td>jul</td>\n",
       "      <td>1</td>\n",
       "      <td>0</td>\n",
       "      <td>nonexistent</td>\n",
       "      <td>yes</td>\n",
       "      <td>1</td>\n",
       "      <td>1</td>\n",
       "    </tr>\n",
       "  </tbody>\n",
       "</table>\n",
       "</div>"
      ],
      "text/plain": [
       "    age            job            education month  campaign  previous  \\\n",
       "0    30    blue-collar             basic.9y   may         2         0   \n",
       "1    39       services          high.school   may         4         0   \n",
       "2    25       services          high.school   jun         1         0   \n",
       "3    38       services             basic.9y   jun         3         0   \n",
       "4    47         admin.    university.degree   nov         1         0   \n",
       "5    32       services    university.degree   sep         3         2   \n",
       "6    32         admin.    university.degree   sep         4         0   \n",
       "7    41   entrepreneur    university.degree   nov         2         0   \n",
       "8    31       services  professional.course   nov         1         1   \n",
       "9    35    blue-collar             basic.9y   may         1         0   \n",
       "10   25       services             basic.6y   jul         1         0   \n",
       "11   36  self-employed             basic.4y   jul         1         0   \n",
       "12   36         admin.          high.school   may         2         0   \n",
       "13   47    blue-collar             basic.4y   jun         2         0   \n",
       "14   29         admin.          high.school   may         2         0   \n",
       "15   27       services    university.degree   jul         2         0   \n",
       "16   44         admin.    university.degree   jul         6         0   \n",
       "17   46         admin.    university.degree   jul         4         0   \n",
       "18   45   entrepreneur    university.degree   aug         2         0   \n",
       "19   50    blue-collar             basic.4y   jul         1         0   \n",
       "\n",
       "       poutcome    y  codif job  y codif  \n",
       "0   nonexistent   no          1        0  \n",
       "1   nonexistent   no          7        0  \n",
       "2   nonexistent   no          7        0  \n",
       "3   nonexistent   no          7        0  \n",
       "4   nonexistent   no          0        0  \n",
       "5       failure   no          7        0  \n",
       "6   nonexistent   no          0        0  \n",
       "7   nonexistent   no          2        0  \n",
       "8       failure   no          7        0  \n",
       "9   nonexistent   no          1        0  \n",
       "10  nonexistent   no          7        0  \n",
       "11  nonexistent   no          6        0  \n",
       "12  nonexistent   no          0        0  \n",
       "13  nonexistent   no          1        0  \n",
       "14  nonexistent   no          0        0  \n",
       "15  nonexistent   no          7        0  \n",
       "16  nonexistent   no          0        0  \n",
       "17  nonexistent   no          0        0  \n",
       "18  nonexistent   no          2        0  \n",
       "19  nonexistent  yes          1        1  "
      ]
     },
     "execution_count": 39,
     "metadata": {},
     "output_type": "execute_result"
    }
   ],
   "source": [
    "# Primero codificamos la variable respuesta de forma manual porque es binaria, asi que super simple con esta linea transformamos los yes, por 1 y los no por 0\n",
    "bank_df_3['y codif'] = bank_df_3['y'].map({'yes': 1, 'no': 0})\n",
    "bank_df_3.head(20)"
   ]
  },
  {
   "cell_type": "code",
   "execution_count": 31,
   "id": "da504eb6-9aab-4424-9aeb-7e2d7e165e16",
   "metadata": {},
   "outputs": [
    {
     "data": {
      "text/plain": [
       "array(['blue-collar', 'services', 'admin.', 'entrepreneur',\n",
       "       'self-employed', 'technician', 'management', 'student', 'retired',\n",
       "       'housemaid', 'unemployed', 'unknown'], dtype=object)"
      ]
     },
     "execution_count": 31,
     "metadata": {},
     "output_type": "execute_result"
    }
   ],
   "source": [
    "bank_df_3['job'].unique() #traigo la lista de valores únicos de la columan 'jobs' para ver con que trabajamos"
   ]
  },
  {
   "cell_type": "code",
   "execution_count": 32,
   "id": "1ac860f9-c76e-44f6-9b97-2228a383fbcf",
   "metadata": {},
   "outputs": [
    {
     "data": {
      "text/plain": [
       "array(['basic.9y', 'high.school', 'university.degree',\n",
       "       'professional.course', 'basic.6y', 'basic.4y', 'unknown',\n",
       "       'illiterate'], dtype=object)"
      ]
     },
     "execution_count": 32,
     "metadata": {},
     "output_type": "execute_result"
    }
   ],
   "source": [
    "bank_df_3['education'].unique() # hacemos lo mismo con la otra columna 'education'"
   ]
  },
  {
   "cell_type": "code",
   "execution_count": 33,
   "id": "d9f76759-f2cb-481a-9cd0-5161232dbe4c",
   "metadata": {},
   "outputs": [],
   "source": [
    "# instanciamos ámbas\n",
    "encoder_job = LabelEncoder()\n",
    "encoder_education = LabelEncoder()"
   ]
  },
  {
   "cell_type": "code",
   "execution_count": 34,
   "id": "bf519607-9c94-4393-907b-09c844f3f373",
   "metadata": {},
   "outputs": [
    {
     "data": {
      "text/html": [
       "<style>#sk-container-id-2 {color: black;background-color: white;}#sk-container-id-2 pre{padding: 0;}#sk-container-id-2 div.sk-toggleable {background-color: white;}#sk-container-id-2 label.sk-toggleable__label {cursor: pointer;display: block;width: 100%;margin-bottom: 0;padding: 0.3em;box-sizing: border-box;text-align: center;}#sk-container-id-2 label.sk-toggleable__label-arrow:before {content: \"▸\";float: left;margin-right: 0.25em;color: #696969;}#sk-container-id-2 label.sk-toggleable__label-arrow:hover:before {color: black;}#sk-container-id-2 div.sk-estimator:hover label.sk-toggleable__label-arrow:before {color: black;}#sk-container-id-2 div.sk-toggleable__content {max-height: 0;max-width: 0;overflow: hidden;text-align: left;background-color: #f0f8ff;}#sk-container-id-2 div.sk-toggleable__content pre {margin: 0.2em;color: black;border-radius: 0.25em;background-color: #f0f8ff;}#sk-container-id-2 input.sk-toggleable__control:checked~div.sk-toggleable__content {max-height: 200px;max-width: 100%;overflow: auto;}#sk-container-id-2 input.sk-toggleable__control:checked~label.sk-toggleable__label-arrow:before {content: \"▾\";}#sk-container-id-2 div.sk-estimator input.sk-toggleable__control:checked~label.sk-toggleable__label {background-color: #d4ebff;}#sk-container-id-2 div.sk-label input.sk-toggleable__control:checked~label.sk-toggleable__label {background-color: #d4ebff;}#sk-container-id-2 input.sk-hidden--visually {border: 0;clip: rect(1px 1px 1px 1px);clip: rect(1px, 1px, 1px, 1px);height: 1px;margin: -1px;overflow: hidden;padding: 0;position: absolute;width: 1px;}#sk-container-id-2 div.sk-estimator {font-family: monospace;background-color: #f0f8ff;border: 1px dotted black;border-radius: 0.25em;box-sizing: border-box;margin-bottom: 0.5em;}#sk-container-id-2 div.sk-estimator:hover {background-color: #d4ebff;}#sk-container-id-2 div.sk-parallel-item::after {content: \"\";width: 100%;border-bottom: 1px solid gray;flex-grow: 1;}#sk-container-id-2 div.sk-label:hover label.sk-toggleable__label {background-color: #d4ebff;}#sk-container-id-2 div.sk-serial::before {content: \"\";position: absolute;border-left: 1px solid gray;box-sizing: border-box;top: 0;bottom: 0;left: 50%;z-index: 0;}#sk-container-id-2 div.sk-serial {display: flex;flex-direction: column;align-items: center;background-color: white;padding-right: 0.2em;padding-left: 0.2em;position: relative;}#sk-container-id-2 div.sk-item {position: relative;z-index: 1;}#sk-container-id-2 div.sk-parallel {display: flex;align-items: stretch;justify-content: center;background-color: white;position: relative;}#sk-container-id-2 div.sk-item::before, #sk-container-id-2 div.sk-parallel-item::before {content: \"\";position: absolute;border-left: 1px solid gray;box-sizing: border-box;top: 0;bottom: 0;left: 50%;z-index: -1;}#sk-container-id-2 div.sk-parallel-item {display: flex;flex-direction: column;z-index: 1;position: relative;background-color: white;}#sk-container-id-2 div.sk-parallel-item:first-child::after {align-self: flex-end;width: 50%;}#sk-container-id-2 div.sk-parallel-item:last-child::after {align-self: flex-start;width: 50%;}#sk-container-id-2 div.sk-parallel-item:only-child::after {width: 0;}#sk-container-id-2 div.sk-dashed-wrapped {border: 1px dashed gray;margin: 0 0.4em 0.5em 0.4em;box-sizing: border-box;padding-bottom: 0.4em;background-color: white;}#sk-container-id-2 div.sk-label label {font-family: monospace;font-weight: bold;display: inline-block;line-height: 1.2em;}#sk-container-id-2 div.sk-label-container {text-align: center;}#sk-container-id-2 div.sk-container {/* jupyter's `normalize.less` sets `[hidden] { display: none; }` but bootstrap.min.css set `[hidden] { display: none !important; }` so we also need the `!important` here to be able to override the default hidden behavior on the sphinx rendered scikit-learn.org. See: https://github.com/scikit-learn/scikit-learn/issues/21755 */display: inline-block !important;position: relative;}#sk-container-id-2 div.sk-text-repr-fallback {display: none;}</style><div id=\"sk-container-id-2\" class=\"sk-top-container\"><div class=\"sk-text-repr-fallback\"><pre>LabelEncoder()</pre><b>In a Jupyter environment, please rerun this cell to show the HTML representation or trust the notebook. <br />On GitHub, the HTML representation is unable to render, please try loading this page with nbviewer.org.</b></div><div class=\"sk-container\" hidden><div class=\"sk-item\"><div class=\"sk-estimator sk-toggleable\"><input class=\"sk-toggleable__control sk-hidden--visually\" id=\"sk-estimator-id-2\" type=\"checkbox\" checked><label for=\"sk-estimator-id-2\" class=\"sk-toggleable__label sk-toggleable__label-arrow\">LabelEncoder</label><div class=\"sk-toggleable__content\"><pre>LabelEncoder()</pre></div></div></div></div></div>"
      ],
      "text/plain": [
       "LabelEncoder()"
      ]
     },
     "execution_count": 34,
     "metadata": {},
     "output_type": "execute_result"
    }
   ],
   "source": [
    "# les cargo la data a los encoders\n",
    "encoder_job.fit(bank_df_3['job'])\n",
    "encoder_education.fit(bank_df_3['education'])"
   ]
  },
  {
   "cell_type": "code",
   "execution_count": 35,
   "id": "9e604877-3b84-4b85-8034-87de7c8a02c6",
   "metadata": {},
   "outputs": [
    {
     "name": "stderr",
     "output_type": "stream",
     "text": [
      "C:\\Users\\guill\\AppData\\Local\\Temp\\ipykernel_9104\\838135136.py:2: SettingWithCopyWarning: \n",
      "A value is trying to be set on a copy of a slice from a DataFrame.\n",
      "Try using .loc[row_indexer,col_indexer] = value instead\n",
      "\n",
      "See the caveats in the documentation: https://pandas.pydata.org/pandas-docs/stable/user_guide/indexing.html#returning-a-view-versus-a-copy\n",
      "  bank_df_3['codif job'] = encoder_job.transform(bank_df_3['job'])\n"
     ]
    },
    {
     "data": {
      "text/html": [
       "<div>\n",
       "<style scoped>\n",
       "    .dataframe tbody tr th:only-of-type {\n",
       "        vertical-align: middle;\n",
       "    }\n",
       "\n",
       "    .dataframe tbody tr th {\n",
       "        vertical-align: top;\n",
       "    }\n",
       "\n",
       "    .dataframe thead th {\n",
       "        text-align: right;\n",
       "    }\n",
       "</style>\n",
       "<table border=\"1\" class=\"dataframe\">\n",
       "  <thead>\n",
       "    <tr style=\"text-align: right;\">\n",
       "      <th></th>\n",
       "      <th>age</th>\n",
       "      <th>job</th>\n",
       "      <th>education</th>\n",
       "      <th>month</th>\n",
       "      <th>campaign</th>\n",
       "      <th>previous</th>\n",
       "      <th>poutcome</th>\n",
       "      <th>y</th>\n",
       "      <th>codif job</th>\n",
       "    </tr>\n",
       "  </thead>\n",
       "  <tbody>\n",
       "    <tr>\n",
       "      <th>0</th>\n",
       "      <td>30</td>\n",
       "      <td>blue-collar</td>\n",
       "      <td>basic.9y</td>\n",
       "      <td>may</td>\n",
       "      <td>2</td>\n",
       "      <td>0</td>\n",
       "      <td>nonexistent</td>\n",
       "      <td>no</td>\n",
       "      <td>1</td>\n",
       "    </tr>\n",
       "    <tr>\n",
       "      <th>1</th>\n",
       "      <td>39</td>\n",
       "      <td>services</td>\n",
       "      <td>high.school</td>\n",
       "      <td>may</td>\n",
       "      <td>4</td>\n",
       "      <td>0</td>\n",
       "      <td>nonexistent</td>\n",
       "      <td>no</td>\n",
       "      <td>7</td>\n",
       "    </tr>\n",
       "    <tr>\n",
       "      <th>2</th>\n",
       "      <td>25</td>\n",
       "      <td>services</td>\n",
       "      <td>high.school</td>\n",
       "      <td>jun</td>\n",
       "      <td>1</td>\n",
       "      <td>0</td>\n",
       "      <td>nonexistent</td>\n",
       "      <td>no</td>\n",
       "      <td>7</td>\n",
       "    </tr>\n",
       "    <tr>\n",
       "      <th>3</th>\n",
       "      <td>38</td>\n",
       "      <td>services</td>\n",
       "      <td>basic.9y</td>\n",
       "      <td>jun</td>\n",
       "      <td>3</td>\n",
       "      <td>0</td>\n",
       "      <td>nonexistent</td>\n",
       "      <td>no</td>\n",
       "      <td>7</td>\n",
       "    </tr>\n",
       "    <tr>\n",
       "      <th>4</th>\n",
       "      <td>47</td>\n",
       "      <td>admin.</td>\n",
       "      <td>university.degree</td>\n",
       "      <td>nov</td>\n",
       "      <td>1</td>\n",
       "      <td>0</td>\n",
       "      <td>nonexistent</td>\n",
       "      <td>no</td>\n",
       "      <td>0</td>\n",
       "    </tr>\n",
       "    <tr>\n",
       "      <th>...</th>\n",
       "      <td>...</td>\n",
       "      <td>...</td>\n",
       "      <td>...</td>\n",
       "      <td>...</td>\n",
       "      <td>...</td>\n",
       "      <td>...</td>\n",
       "      <td>...</td>\n",
       "      <td>...</td>\n",
       "      <td>...</td>\n",
       "    </tr>\n",
       "    <tr>\n",
       "      <th>4114</th>\n",
       "      <td>30</td>\n",
       "      <td>admin.</td>\n",
       "      <td>basic.6y</td>\n",
       "      <td>jul</td>\n",
       "      <td>1</td>\n",
       "      <td>0</td>\n",
       "      <td>nonexistent</td>\n",
       "      <td>no</td>\n",
       "      <td>0</td>\n",
       "    </tr>\n",
       "    <tr>\n",
       "      <th>4115</th>\n",
       "      <td>39</td>\n",
       "      <td>admin.</td>\n",
       "      <td>high.school</td>\n",
       "      <td>jul</td>\n",
       "      <td>1</td>\n",
       "      <td>0</td>\n",
       "      <td>nonexistent</td>\n",
       "      <td>no</td>\n",
       "      <td>0</td>\n",
       "    </tr>\n",
       "    <tr>\n",
       "      <th>4116</th>\n",
       "      <td>27</td>\n",
       "      <td>student</td>\n",
       "      <td>high.school</td>\n",
       "      <td>may</td>\n",
       "      <td>2</td>\n",
       "      <td>1</td>\n",
       "      <td>failure</td>\n",
       "      <td>no</td>\n",
       "      <td>8</td>\n",
       "    </tr>\n",
       "    <tr>\n",
       "      <th>4117</th>\n",
       "      <td>58</td>\n",
       "      <td>admin.</td>\n",
       "      <td>high.school</td>\n",
       "      <td>aug</td>\n",
       "      <td>1</td>\n",
       "      <td>0</td>\n",
       "      <td>nonexistent</td>\n",
       "      <td>no</td>\n",
       "      <td>0</td>\n",
       "    </tr>\n",
       "    <tr>\n",
       "      <th>4118</th>\n",
       "      <td>34</td>\n",
       "      <td>management</td>\n",
       "      <td>high.school</td>\n",
       "      <td>nov</td>\n",
       "      <td>1</td>\n",
       "      <td>0</td>\n",
       "      <td>nonexistent</td>\n",
       "      <td>no</td>\n",
       "      <td>4</td>\n",
       "    </tr>\n",
       "  </tbody>\n",
       "</table>\n",
       "<p>4107 rows × 9 columns</p>\n",
       "</div>"
      ],
      "text/plain": [
       "      age          job          education month  campaign  previous  \\\n",
       "0      30  blue-collar           basic.9y   may         2         0   \n",
       "1      39     services        high.school   may         4         0   \n",
       "2      25     services        high.school   jun         1         0   \n",
       "3      38     services           basic.9y   jun         3         0   \n",
       "4      47       admin.  university.degree   nov         1         0   \n",
       "...   ...          ...                ...   ...       ...       ...   \n",
       "4114   30       admin.           basic.6y   jul         1         0   \n",
       "4115   39       admin.        high.school   jul         1         0   \n",
       "4116   27      student        high.school   may         2         1   \n",
       "4117   58       admin.        high.school   aug         1         0   \n",
       "4118   34   management        high.school   nov         1         0   \n",
       "\n",
       "         poutcome   y  codif job  \n",
       "0     nonexistent  no          1  \n",
       "1     nonexistent  no          7  \n",
       "2     nonexistent  no          7  \n",
       "3     nonexistent  no          7  \n",
       "4     nonexistent  no          0  \n",
       "...           ...  ..        ...  \n",
       "4114  nonexistent  no          0  \n",
       "4115  nonexistent  no          0  \n",
       "4116      failure  no          8  \n",
       "4117  nonexistent  no          0  \n",
       "4118  nonexistent  no          4  \n",
       "\n",
       "[4107 rows x 9 columns]"
      ]
     },
     "execution_count": 35,
     "metadata": {},
     "output_type": "execute_result"
    }
   ],
   "source": [
    "# y con este metodo .transform cambio la data a la codificada y la igualo en una nueva columna\n",
    "bank_df_3['codif job'] = encoder_job.transform(bank_df_3['job'])\n",
    "bank_df_3"
   ]
  },
  {
   "cell_type": "code",
   "execution_count": 40,
   "id": "c04cfe56-12ef-42dc-8feb-b6cb87156a0c",
   "metadata": {},
   "outputs": [
    {
     "name": "stderr",
     "output_type": "stream",
     "text": [
      "C:\\Users\\guill\\AppData\\Local\\Temp\\ipykernel_9104\\2310020193.py:2: SettingWithCopyWarning: \n",
      "A value is trying to be set on a copy of a slice from a DataFrame.\n",
      "Try using .loc[row_indexer,col_indexer] = value instead\n",
      "\n",
      "See the caveats in the documentation: https://pandas.pydata.org/pandas-docs/stable/user_guide/indexing.html#returning-a-view-versus-a-copy\n",
      "  bank_df_3['codif education'] = encoder_education.transform(bank_df_3['education'])\n"
     ]
    },
    {
     "data": {
      "text/html": [
       "<div>\n",
       "<style scoped>\n",
       "    .dataframe tbody tr th:only-of-type {\n",
       "        vertical-align: middle;\n",
       "    }\n",
       "\n",
       "    .dataframe tbody tr th {\n",
       "        vertical-align: top;\n",
       "    }\n",
       "\n",
       "    .dataframe thead th {\n",
       "        text-align: right;\n",
       "    }\n",
       "</style>\n",
       "<table border=\"1\" class=\"dataframe\">\n",
       "  <thead>\n",
       "    <tr style=\"text-align: right;\">\n",
       "      <th></th>\n",
       "      <th>age</th>\n",
       "      <th>job</th>\n",
       "      <th>education</th>\n",
       "      <th>month</th>\n",
       "      <th>campaign</th>\n",
       "      <th>previous</th>\n",
       "      <th>poutcome</th>\n",
       "      <th>y</th>\n",
       "      <th>codif job</th>\n",
       "      <th>y codif</th>\n",
       "      <th>codif education</th>\n",
       "    </tr>\n",
       "  </thead>\n",
       "  <tbody>\n",
       "    <tr>\n",
       "      <th>0</th>\n",
       "      <td>30</td>\n",
       "      <td>blue-collar</td>\n",
       "      <td>basic.9y</td>\n",
       "      <td>may</td>\n",
       "      <td>2</td>\n",
       "      <td>0</td>\n",
       "      <td>nonexistent</td>\n",
       "      <td>no</td>\n",
       "      <td>1</td>\n",
       "      <td>0</td>\n",
       "      <td>2</td>\n",
       "    </tr>\n",
       "    <tr>\n",
       "      <th>1</th>\n",
       "      <td>39</td>\n",
       "      <td>services</td>\n",
       "      <td>high.school</td>\n",
       "      <td>may</td>\n",
       "      <td>4</td>\n",
       "      <td>0</td>\n",
       "      <td>nonexistent</td>\n",
       "      <td>no</td>\n",
       "      <td>7</td>\n",
       "      <td>0</td>\n",
       "      <td>3</td>\n",
       "    </tr>\n",
       "    <tr>\n",
       "      <th>2</th>\n",
       "      <td>25</td>\n",
       "      <td>services</td>\n",
       "      <td>high.school</td>\n",
       "      <td>jun</td>\n",
       "      <td>1</td>\n",
       "      <td>0</td>\n",
       "      <td>nonexistent</td>\n",
       "      <td>no</td>\n",
       "      <td>7</td>\n",
       "      <td>0</td>\n",
       "      <td>3</td>\n",
       "    </tr>\n",
       "    <tr>\n",
       "      <th>3</th>\n",
       "      <td>38</td>\n",
       "      <td>services</td>\n",
       "      <td>basic.9y</td>\n",
       "      <td>jun</td>\n",
       "      <td>3</td>\n",
       "      <td>0</td>\n",
       "      <td>nonexistent</td>\n",
       "      <td>no</td>\n",
       "      <td>7</td>\n",
       "      <td>0</td>\n",
       "      <td>2</td>\n",
       "    </tr>\n",
       "    <tr>\n",
       "      <th>4</th>\n",
       "      <td>47</td>\n",
       "      <td>admin.</td>\n",
       "      <td>university.degree</td>\n",
       "      <td>nov</td>\n",
       "      <td>1</td>\n",
       "      <td>0</td>\n",
       "      <td>nonexistent</td>\n",
       "      <td>no</td>\n",
       "      <td>0</td>\n",
       "      <td>0</td>\n",
       "      <td>6</td>\n",
       "    </tr>\n",
       "    <tr>\n",
       "      <th>...</th>\n",
       "      <td>...</td>\n",
       "      <td>...</td>\n",
       "      <td>...</td>\n",
       "      <td>...</td>\n",
       "      <td>...</td>\n",
       "      <td>...</td>\n",
       "      <td>...</td>\n",
       "      <td>...</td>\n",
       "      <td>...</td>\n",
       "      <td>...</td>\n",
       "      <td>...</td>\n",
       "    </tr>\n",
       "    <tr>\n",
       "      <th>4114</th>\n",
       "      <td>30</td>\n",
       "      <td>admin.</td>\n",
       "      <td>basic.6y</td>\n",
       "      <td>jul</td>\n",
       "      <td>1</td>\n",
       "      <td>0</td>\n",
       "      <td>nonexistent</td>\n",
       "      <td>no</td>\n",
       "      <td>0</td>\n",
       "      <td>0</td>\n",
       "      <td>1</td>\n",
       "    </tr>\n",
       "    <tr>\n",
       "      <th>4115</th>\n",
       "      <td>39</td>\n",
       "      <td>admin.</td>\n",
       "      <td>high.school</td>\n",
       "      <td>jul</td>\n",
       "      <td>1</td>\n",
       "      <td>0</td>\n",
       "      <td>nonexistent</td>\n",
       "      <td>no</td>\n",
       "      <td>0</td>\n",
       "      <td>0</td>\n",
       "      <td>3</td>\n",
       "    </tr>\n",
       "    <tr>\n",
       "      <th>4116</th>\n",
       "      <td>27</td>\n",
       "      <td>student</td>\n",
       "      <td>high.school</td>\n",
       "      <td>may</td>\n",
       "      <td>2</td>\n",
       "      <td>1</td>\n",
       "      <td>failure</td>\n",
       "      <td>no</td>\n",
       "      <td>8</td>\n",
       "      <td>0</td>\n",
       "      <td>3</td>\n",
       "    </tr>\n",
       "    <tr>\n",
       "      <th>4117</th>\n",
       "      <td>58</td>\n",
       "      <td>admin.</td>\n",
       "      <td>high.school</td>\n",
       "      <td>aug</td>\n",
       "      <td>1</td>\n",
       "      <td>0</td>\n",
       "      <td>nonexistent</td>\n",
       "      <td>no</td>\n",
       "      <td>0</td>\n",
       "      <td>0</td>\n",
       "      <td>3</td>\n",
       "    </tr>\n",
       "    <tr>\n",
       "      <th>4118</th>\n",
       "      <td>34</td>\n",
       "      <td>management</td>\n",
       "      <td>high.school</td>\n",
       "      <td>nov</td>\n",
       "      <td>1</td>\n",
       "      <td>0</td>\n",
       "      <td>nonexistent</td>\n",
       "      <td>no</td>\n",
       "      <td>4</td>\n",
       "      <td>0</td>\n",
       "      <td>3</td>\n",
       "    </tr>\n",
       "  </tbody>\n",
       "</table>\n",
       "<p>4107 rows × 11 columns</p>\n",
       "</div>"
      ],
      "text/plain": [
       "      age          job          education month  campaign  previous  \\\n",
       "0      30  blue-collar           basic.9y   may         2         0   \n",
       "1      39     services        high.school   may         4         0   \n",
       "2      25     services        high.school   jun         1         0   \n",
       "3      38     services           basic.9y   jun         3         0   \n",
       "4      47       admin.  university.degree   nov         1         0   \n",
       "...   ...          ...                ...   ...       ...       ...   \n",
       "4114   30       admin.           basic.6y   jul         1         0   \n",
       "4115   39       admin.        high.school   jul         1         0   \n",
       "4116   27      student        high.school   may         2         1   \n",
       "4117   58       admin.        high.school   aug         1         0   \n",
       "4118   34   management        high.school   nov         1         0   \n",
       "\n",
       "         poutcome   y  codif job  y codif  codif education  \n",
       "0     nonexistent  no          1        0                2  \n",
       "1     nonexistent  no          7        0                3  \n",
       "2     nonexistent  no          7        0                3  \n",
       "3     nonexistent  no          7        0                2  \n",
       "4     nonexistent  no          0        0                6  \n",
       "...           ...  ..        ...      ...              ...  \n",
       "4114  nonexistent  no          0        0                1  \n",
       "4115  nonexistent  no          0        0                3  \n",
       "4116      failure  no          8        0                3  \n",
       "4117  nonexistent  no          0        0                3  \n",
       "4118  nonexistent  no          4        0                3  \n",
       "\n",
       "[4107 rows x 11 columns]"
      ]
     },
     "execution_count": 40,
     "metadata": {},
     "output_type": "execute_result"
    }
   ],
   "source": [
    "# repetimos proceso con education\n",
    "bank_df_3['codif education'] = encoder_education.transform(bank_df_3['education'])\n",
    "bank_df_3"
   ]
  },
  {
   "cell_type": "markdown",
   "id": "f12d3523-62a8-4840-9798-111d5e074467",
   "metadata": {},
   "source": [
    "### Codificacion de JOB\n",
    "\n",
    "| Llave | Valor         |\n",
    "|-------|---------------|\n",
    "| 0     | admin         |\n",
    "| 1     | blue-collar   |\n",
    "| 2     | entrepreneur  |\n",
    "| 3     | housemaid     |\n",
    "| 4     | management    |\n",
    "| 5     | retired       |\n",
    "| 6     | self-employed |\n",
    "| 7     | services      |\n",
    "| 8     | student       |\n",
    "| 9     | technician    |\n",
    "| 10    | unemployed    |\n",
    "| 11    | unknown       |\n",
    "\n",
    "### Codificacion de education\n",
    "| Llave | Valor               |\n",
    "|-------|---------------------|\n",
    "| 0     | basic.4y            |\n",
    "| 1     | basic.6y            |\n",
    "| 2     | basic.9y            |\n",
    "| 3     | high.school         |\n",
    "| 4     | illiterate          |\n",
    "| 5     | professional.course |\n",
    "| 6     | university.degree   |\n",
    "| 7     | unknown             |"
   ]
  },
  {
   "cell_type": "code",
   "execution_count": 41,
   "id": "71f19a57-0e44-4488-a781-425a806658b5",
   "metadata": {},
   "outputs": [
    {
     "data": {
      "text/plain": [
       "Index(['age', 'campaign', 'previous', 'codif job', 'y codif',\n",
       "       'codif education'],\n",
       "      dtype='object')"
      ]
     },
     "execution_count": 41,
     "metadata": {},
     "output_type": "execute_result"
    }
   ],
   "source": [
    "# creo una nueva variable para alojar todas las columnas numéricas y calcular la correlacion con la columna objetivo del analisis 'y' ahora codificada a 'y codif'\n",
    "num_cols = bank_df_3.select_dtypes(include=np.number).columns\n",
    "num_cols"
   ]
  },
  {
   "cell_type": "code",
   "execution_count": 42,
   "id": "1574f763-5273-46ee-831c-d0acdc94d0a7",
   "metadata": {},
   "outputs": [
    {
     "data": {
      "text/html": [
       "<div>\n",
       "<style scoped>\n",
       "    .dataframe tbody tr th:only-of-type {\n",
       "        vertical-align: middle;\n",
       "    }\n",
       "\n",
       "    .dataframe tbody tr th {\n",
       "        vertical-align: top;\n",
       "    }\n",
       "\n",
       "    .dataframe thead th {\n",
       "        text-align: right;\n",
       "    }\n",
       "</style>\n",
       "<table border=\"1\" class=\"dataframe\">\n",
       "  <thead>\n",
       "    <tr style=\"text-align: right;\">\n",
       "      <th></th>\n",
       "      <th>age</th>\n",
       "      <th>campaign</th>\n",
       "      <th>previous</th>\n",
       "      <th>codif job</th>\n",
       "      <th>y codif</th>\n",
       "      <th>codif education</th>\n",
       "    </tr>\n",
       "  </thead>\n",
       "  <tbody>\n",
       "    <tr>\n",
       "      <th>age</th>\n",
       "      <td>1.000000</td>\n",
       "      <td>-0.006454</td>\n",
       "      <td>0.050793</td>\n",
       "      <td>0.013349</td>\n",
       "      <td>0.060254</td>\n",
       "      <td>-0.127303</td>\n",
       "    </tr>\n",
       "    <tr>\n",
       "      <th>campaign</th>\n",
       "      <td>-0.006454</td>\n",
       "      <td>1.000000</td>\n",
       "      <td>-0.093665</td>\n",
       "      <td>-0.002534</td>\n",
       "      <td>-0.076274</td>\n",
       "      <td>0.018025</td>\n",
       "    </tr>\n",
       "    <tr>\n",
       "      <th>previous</th>\n",
       "      <td>0.050793</td>\n",
       "      <td>-0.093665</td>\n",
       "      <td>1.000000</td>\n",
       "      <td>0.024378</td>\n",
       "      <td>0.255429</td>\n",
       "      <td>0.046010</td>\n",
       "    </tr>\n",
       "    <tr>\n",
       "      <th>codif job</th>\n",
       "      <td>0.013349</td>\n",
       "      <td>-0.002534</td>\n",
       "      <td>0.024378</td>\n",
       "      <td>1.000000</td>\n",
       "      <td>0.026966</td>\n",
       "      <td>0.133977</td>\n",
       "    </tr>\n",
       "    <tr>\n",
       "      <th>y codif</th>\n",
       "      <td>0.060254</td>\n",
       "      <td>-0.076274</td>\n",
       "      <td>0.255429</td>\n",
       "      <td>0.026966</td>\n",
       "      <td>1.000000</td>\n",
       "      <td>0.067427</td>\n",
       "    </tr>\n",
       "    <tr>\n",
       "      <th>codif education</th>\n",
       "      <td>-0.127303</td>\n",
       "      <td>0.018025</td>\n",
       "      <td>0.046010</td>\n",
       "      <td>0.133977</td>\n",
       "      <td>0.067427</td>\n",
       "      <td>1.000000</td>\n",
       "    </tr>\n",
       "  </tbody>\n",
       "</table>\n",
       "</div>"
      ],
      "text/plain": [
       "                      age  campaign  previous  codif job   y codif  \\\n",
       "age              1.000000 -0.006454  0.050793   0.013349  0.060254   \n",
       "campaign        -0.006454  1.000000 -0.093665  -0.002534 -0.076274   \n",
       "previous         0.050793 -0.093665  1.000000   0.024378  0.255429   \n",
       "codif job        0.013349 -0.002534  0.024378   1.000000  0.026966   \n",
       "y codif          0.060254 -0.076274  0.255429   0.026966  1.000000   \n",
       "codif education -0.127303  0.018025  0.046010   0.133977  0.067427   \n",
       "\n",
       "                 codif education  \n",
       "age                    -0.127303  \n",
       "campaign                0.018025  \n",
       "previous                0.046010  \n",
       "codif job               0.133977  \n",
       "y codif                 0.067427  \n",
       "codif education         1.000000  "
      ]
     },
     "execution_count": 42,
     "metadata": {},
     "output_type": "execute_result"
    }
   ],
   "source": [
    "# recordatorio: los valores cercanos a 0, significa que no hay correlación lineal o que es mínima, todos los valores cercanos a -1 o 1 es que la corelacion es alta\n",
    "bank_df_3[num_cols].corr()"
   ]
  },
  {
   "cell_type": "markdown",
   "id": "932c265f-a14e-48e6-a6c0-b5500ddf0453",
   "metadata": {},
   "source": [
    "#### veamos las covarianzas y correlaciones"
   ]
  },
  {
   "cell_type": "code",
   "execution_count": 43,
   "id": "4a83af39-dcde-42cb-89b4-651935704203",
   "metadata": {},
   "outputs": [
    {
     "data": {
      "text/plain": [
       "array([[1.        , 0.02696624],\n",
       "       [0.02696624, 1.        ]])"
      ]
     },
     "execution_count": 43,
     "metadata": {},
     "output_type": "execute_result"
    }
   ],
   "source": [
    "np.corrcoef(bank_df_3['y codif'], bank_df_3['codif job'])"
   ]
  },
  {
   "cell_type": "code",
   "execution_count": 46,
   "id": "00034326-cf49-48f1-933a-19562a9da9cd",
   "metadata": {},
   "outputs": [
    {
     "data": {
      "text/plain": [
       "array([[1.        , 0.06742749],\n",
       "       [0.06742749, 1.        ]])"
      ]
     },
     "execution_count": 46,
     "metadata": {},
     "output_type": "execute_result"
    }
   ],
   "source": [
    "np.corrcoef(bank_df_3['y codif'], bank_df_3['codif education'])"
   ]
  },
  {
   "cell_type": "markdown",
   "id": "3b834bc2-3200-4544-8a78-2d0c04cd0e5b",
   "metadata": {},
   "source": [
    "##### es notorio que la relación sea tan baja entre las predictoras y la objetivo, esto nos demuestra que la relación no es lineal."
   ]
  },
  {
   "cell_type": "markdown",
   "id": "dbe5878c-f7a3-4519-b0ea-94f852da48dd",
   "metadata": {},
   "source": [
    "#### Reducción de dimensionalidad para preparar la data para el modelo"
   ]
  },
  {
   "cell_type": "code",
   "execution_count": 59,
   "id": "625fdb44-b54d-49d2-8976-1966eb0b7005",
   "metadata": {},
   "outputs": [],
   "source": [
    "df_reduced = bank_df_3.loc[:, ['y codif', 'codif job', 'codif education']] # con esta linea creamos un nuevo dataset para trabajar solo con las 3 variables del análisis, que ya encodeamos"
   ]
  },
  {
   "cell_type": "code",
   "execution_count": 60,
   "id": "ebc57d7d-3f7c-419c-86d5-6f9612b5458f",
   "metadata": {},
   "outputs": [],
   "source": [
    "# Vamos a los modelos, empezamos separando los datos en 2 grupos; variables predictoras y de respuesta\n",
    "X = df_reduced.drop('y codif', axis=1) # el axis es para indicar que dropee verticalmente, o sea la columna\n",
    "y = df_reduced['y codif']"
   ]
  },
  {
   "cell_type": "code",
   "execution_count": 61,
   "id": "dbe00e13-f398-45b6-96f2-7938ad9605a7",
   "metadata": {},
   "outputs": [
    {
     "data": {
      "text/html": [
       "<div>\n",
       "<style scoped>\n",
       "    .dataframe tbody tr th:only-of-type {\n",
       "        vertical-align: middle;\n",
       "    }\n",
       "\n",
       "    .dataframe tbody tr th {\n",
       "        vertical-align: top;\n",
       "    }\n",
       "\n",
       "    .dataframe thead th {\n",
       "        text-align: right;\n",
       "    }\n",
       "</style>\n",
       "<table border=\"1\" class=\"dataframe\">\n",
       "  <thead>\n",
       "    <tr style=\"text-align: right;\">\n",
       "      <th></th>\n",
       "      <th>codif job</th>\n",
       "      <th>codif education</th>\n",
       "    </tr>\n",
       "  </thead>\n",
       "  <tbody>\n",
       "    <tr>\n",
       "      <th>0</th>\n",
       "      <td>1</td>\n",
       "      <td>2</td>\n",
       "    </tr>\n",
       "    <tr>\n",
       "      <th>1</th>\n",
       "      <td>7</td>\n",
       "      <td>3</td>\n",
       "    </tr>\n",
       "    <tr>\n",
       "      <th>2</th>\n",
       "      <td>7</td>\n",
       "      <td>3</td>\n",
       "    </tr>\n",
       "    <tr>\n",
       "      <th>3</th>\n",
       "      <td>7</td>\n",
       "      <td>2</td>\n",
       "    </tr>\n",
       "    <tr>\n",
       "      <th>4</th>\n",
       "      <td>0</td>\n",
       "      <td>6</td>\n",
       "    </tr>\n",
       "    <tr>\n",
       "      <th>...</th>\n",
       "      <td>...</td>\n",
       "      <td>...</td>\n",
       "    </tr>\n",
       "    <tr>\n",
       "      <th>4114</th>\n",
       "      <td>0</td>\n",
       "      <td>1</td>\n",
       "    </tr>\n",
       "    <tr>\n",
       "      <th>4115</th>\n",
       "      <td>0</td>\n",
       "      <td>3</td>\n",
       "    </tr>\n",
       "    <tr>\n",
       "      <th>4116</th>\n",
       "      <td>8</td>\n",
       "      <td>3</td>\n",
       "    </tr>\n",
       "    <tr>\n",
       "      <th>4117</th>\n",
       "      <td>0</td>\n",
       "      <td>3</td>\n",
       "    </tr>\n",
       "    <tr>\n",
       "      <th>4118</th>\n",
       "      <td>4</td>\n",
       "      <td>3</td>\n",
       "    </tr>\n",
       "  </tbody>\n",
       "</table>\n",
       "<p>4107 rows × 2 columns</p>\n",
       "</div>"
      ],
      "text/plain": [
       "      codif job  codif education\n",
       "0             1                2\n",
       "1             7                3\n",
       "2             7                3\n",
       "3             7                2\n",
       "4             0                6\n",
       "...         ...              ...\n",
       "4114          0                1\n",
       "4115          0                3\n",
       "4116          8                3\n",
       "4117          0                3\n",
       "4118          4                3\n",
       "\n",
       "[4107 rows x 2 columns]"
      ]
     },
     "execution_count": 61,
     "metadata": {},
     "output_type": "execute_result"
    }
   ],
   "source": [
    "X"
   ]
  },
  {
   "cell_type": "code",
   "execution_count": 62,
   "id": "e60c6763-b818-41e0-8fc5-67004872d8fe",
   "metadata": {},
   "outputs": [
    {
     "data": {
      "text/plain": [
       "0       0\n",
       "1       0\n",
       "2       0\n",
       "3       0\n",
       "4       0\n",
       "       ..\n",
       "4114    0\n",
       "4115    0\n",
       "4116    0\n",
       "4117    0\n",
       "4118    0\n",
       "Name: y codif, Length: 4107, dtype: int64"
      ]
     },
     "execution_count": 62,
     "metadata": {},
     "output_type": "execute_result"
    }
   ],
   "source": [
    "y"
   ]
  },
  {
   "cell_type": "markdown",
   "id": "da3ed6dd-c79c-4e12-981e-d9599f62299f",
   "metadata": {},
   "source": [
    "#### Ahora dividimos los datos en 'Entrenamiento' y 'Test'"
   ]
  },
  {
   "cell_type": "code",
   "execution_count": 63,
   "id": "af3139ad-f3d1-431c-acad-99e56b61c1d8",
   "metadata": {},
   "outputs": [],
   "source": [
    "from sklearn.model_selection import train_test_split # importamos de scikitlearn la funcion de split\n",
    "X_train, X_test, y_train, y_test = train_test_split(X, y, test_size=0.3) # vamos a elegir %30 para test porque tenemos unas cuantas rows, nos van a quedar cerca de 3k para entrenar"
   ]
  },
  {
   "cell_type": "code",
   "execution_count": 64,
   "id": "f5048866-3ad0-4df1-aa25-7b8eb66c0db1",
   "metadata": {},
   "outputs": [
    {
     "data": {
      "text/html": [
       "<div>\n",
       "<style scoped>\n",
       "    .dataframe tbody tr th:only-of-type {\n",
       "        vertical-align: middle;\n",
       "    }\n",
       "\n",
       "    .dataframe tbody tr th {\n",
       "        vertical-align: top;\n",
       "    }\n",
       "\n",
       "    .dataframe thead th {\n",
       "        text-align: right;\n",
       "    }\n",
       "</style>\n",
       "<table border=\"1\" class=\"dataframe\">\n",
       "  <thead>\n",
       "    <tr style=\"text-align: right;\">\n",
       "      <th></th>\n",
       "      <th>codif job</th>\n",
       "      <th>codif education</th>\n",
       "    </tr>\n",
       "  </thead>\n",
       "  <tbody>\n",
       "    <tr>\n",
       "      <th>2086</th>\n",
       "      <td>1</td>\n",
       "      <td>3</td>\n",
       "    </tr>\n",
       "    <tr>\n",
       "      <th>4045</th>\n",
       "      <td>6</td>\n",
       "      <td>6</td>\n",
       "    </tr>\n",
       "    <tr>\n",
       "      <th>3449</th>\n",
       "      <td>7</td>\n",
       "      <td>2</td>\n",
       "    </tr>\n",
       "    <tr>\n",
       "      <th>3498</th>\n",
       "      <td>7</td>\n",
       "      <td>5</td>\n",
       "    </tr>\n",
       "    <tr>\n",
       "      <th>1451</th>\n",
       "      <td>7</td>\n",
       "      <td>3</td>\n",
       "    </tr>\n",
       "    <tr>\n",
       "      <th>...</th>\n",
       "      <td>...</td>\n",
       "      <td>...</td>\n",
       "    </tr>\n",
       "    <tr>\n",
       "      <th>2539</th>\n",
       "      <td>1</td>\n",
       "      <td>2</td>\n",
       "    </tr>\n",
       "    <tr>\n",
       "      <th>1447</th>\n",
       "      <td>1</td>\n",
       "      <td>2</td>\n",
       "    </tr>\n",
       "    <tr>\n",
       "      <th>624</th>\n",
       "      <td>0</td>\n",
       "      <td>6</td>\n",
       "    </tr>\n",
       "    <tr>\n",
       "      <th>1200</th>\n",
       "      <td>3</td>\n",
       "      <td>0</td>\n",
       "    </tr>\n",
       "    <tr>\n",
       "      <th>2876</th>\n",
       "      <td>9</td>\n",
       "      <td>2</td>\n",
       "    </tr>\n",
       "  </tbody>\n",
       "</table>\n",
       "<p>2874 rows × 2 columns</p>\n",
       "</div>"
      ],
      "text/plain": [
       "      codif job  codif education\n",
       "2086          1                3\n",
       "4045          6                6\n",
       "3449          7                2\n",
       "3498          7                5\n",
       "1451          7                3\n",
       "...         ...              ...\n",
       "2539          1                2\n",
       "1447          1                2\n",
       "624           0                6\n",
       "1200          3                0\n",
       "2876          9                2\n",
       "\n",
       "[2874 rows x 2 columns]"
      ]
     },
     "execution_count": 64,
     "metadata": {},
     "output_type": "execute_result"
    }
   ],
   "source": [
    "# Para no ocupar tanto espacio del notebook, dejo comentadas las variables X_test y las variables y_test y train para poder visualziar la que se desee, comentando las otras\n",
    "X_train\n",
    "#X_test\n",
    "#y_train\n",
    "#y_test"
   ]
  },
  {
   "cell_type": "markdown",
   "id": "a738bd0b-1f66-447d-af71-b9f59777e43d",
   "metadata": {},
   "source": [
    "#### Instanciando los modelos"
   ]
  },
  {
   "cell_type": "code",
   "execution_count": 65,
   "id": "ab0ecd83-a8ad-47b1-93e1-8b542e88c913",
   "metadata": {},
   "outputs": [],
   "source": [
    "dt = DecisionTreeClassifier()\n",
    "rf = RandomForestClassifier()\n",
    "svm = SVC() # maquina de vectores de soporte, es el algoritmo que divide en hiperplanos para maximizar el margen entre clases, lo vamos a probar a ver si funciona bien con nuestros datos"
   ]
  },
  {
   "cell_type": "markdown",
   "id": "4ce12812-88f1-46df-9991-ee85736cd457",
   "metadata": {},
   "source": [
    "#### Entrenando los modelos"
   ]
  },
  {
   "cell_type": "code",
   "execution_count": 66,
   "id": "8b894615-a8c7-4fc6-9b79-ed9b67f77b9f",
   "metadata": {},
   "outputs": [
    {
     "data": {
      "text/html": [
       "<style>#sk-container-id-3 {color: black;background-color: white;}#sk-container-id-3 pre{padding: 0;}#sk-container-id-3 div.sk-toggleable {background-color: white;}#sk-container-id-3 label.sk-toggleable__label {cursor: pointer;display: block;width: 100%;margin-bottom: 0;padding: 0.3em;box-sizing: border-box;text-align: center;}#sk-container-id-3 label.sk-toggleable__label-arrow:before {content: \"▸\";float: left;margin-right: 0.25em;color: #696969;}#sk-container-id-3 label.sk-toggleable__label-arrow:hover:before {color: black;}#sk-container-id-3 div.sk-estimator:hover label.sk-toggleable__label-arrow:before {color: black;}#sk-container-id-3 div.sk-toggleable__content {max-height: 0;max-width: 0;overflow: hidden;text-align: left;background-color: #f0f8ff;}#sk-container-id-3 div.sk-toggleable__content pre {margin: 0.2em;color: black;border-radius: 0.25em;background-color: #f0f8ff;}#sk-container-id-3 input.sk-toggleable__control:checked~div.sk-toggleable__content {max-height: 200px;max-width: 100%;overflow: auto;}#sk-container-id-3 input.sk-toggleable__control:checked~label.sk-toggleable__label-arrow:before {content: \"▾\";}#sk-container-id-3 div.sk-estimator input.sk-toggleable__control:checked~label.sk-toggleable__label {background-color: #d4ebff;}#sk-container-id-3 div.sk-label input.sk-toggleable__control:checked~label.sk-toggleable__label {background-color: #d4ebff;}#sk-container-id-3 input.sk-hidden--visually {border: 0;clip: rect(1px 1px 1px 1px);clip: rect(1px, 1px, 1px, 1px);height: 1px;margin: -1px;overflow: hidden;padding: 0;position: absolute;width: 1px;}#sk-container-id-3 div.sk-estimator {font-family: monospace;background-color: #f0f8ff;border: 1px dotted black;border-radius: 0.25em;box-sizing: border-box;margin-bottom: 0.5em;}#sk-container-id-3 div.sk-estimator:hover {background-color: #d4ebff;}#sk-container-id-3 div.sk-parallel-item::after {content: \"\";width: 100%;border-bottom: 1px solid gray;flex-grow: 1;}#sk-container-id-3 div.sk-label:hover label.sk-toggleable__label {background-color: #d4ebff;}#sk-container-id-3 div.sk-serial::before {content: \"\";position: absolute;border-left: 1px solid gray;box-sizing: border-box;top: 0;bottom: 0;left: 50%;z-index: 0;}#sk-container-id-3 div.sk-serial {display: flex;flex-direction: column;align-items: center;background-color: white;padding-right: 0.2em;padding-left: 0.2em;position: relative;}#sk-container-id-3 div.sk-item {position: relative;z-index: 1;}#sk-container-id-3 div.sk-parallel {display: flex;align-items: stretch;justify-content: center;background-color: white;position: relative;}#sk-container-id-3 div.sk-item::before, #sk-container-id-3 div.sk-parallel-item::before {content: \"\";position: absolute;border-left: 1px solid gray;box-sizing: border-box;top: 0;bottom: 0;left: 50%;z-index: -1;}#sk-container-id-3 div.sk-parallel-item {display: flex;flex-direction: column;z-index: 1;position: relative;background-color: white;}#sk-container-id-3 div.sk-parallel-item:first-child::after {align-self: flex-end;width: 50%;}#sk-container-id-3 div.sk-parallel-item:last-child::after {align-self: flex-start;width: 50%;}#sk-container-id-3 div.sk-parallel-item:only-child::after {width: 0;}#sk-container-id-3 div.sk-dashed-wrapped {border: 1px dashed gray;margin: 0 0.4em 0.5em 0.4em;box-sizing: border-box;padding-bottom: 0.4em;background-color: white;}#sk-container-id-3 div.sk-label label {font-family: monospace;font-weight: bold;display: inline-block;line-height: 1.2em;}#sk-container-id-3 div.sk-label-container {text-align: center;}#sk-container-id-3 div.sk-container {/* jupyter's `normalize.less` sets `[hidden] { display: none; }` but bootstrap.min.css set `[hidden] { display: none !important; }` so we also need the `!important` here to be able to override the default hidden behavior on the sphinx rendered scikit-learn.org. See: https://github.com/scikit-learn/scikit-learn/issues/21755 */display: inline-block !important;position: relative;}#sk-container-id-3 div.sk-text-repr-fallback {display: none;}</style><div id=\"sk-container-id-3\" class=\"sk-top-container\"><div class=\"sk-text-repr-fallback\"><pre>SVC()</pre><b>In a Jupyter environment, please rerun this cell to show the HTML representation or trust the notebook. <br />On GitHub, the HTML representation is unable to render, please try loading this page with nbviewer.org.</b></div><div class=\"sk-container\" hidden><div class=\"sk-item\"><div class=\"sk-estimator sk-toggleable\"><input class=\"sk-toggleable__control sk-hidden--visually\" id=\"sk-estimator-id-3\" type=\"checkbox\" checked><label for=\"sk-estimator-id-3\" class=\"sk-toggleable__label sk-toggleable__label-arrow\">SVC</label><div class=\"sk-toggleable__content\"><pre>SVC()</pre></div></div></div></div></div>"
      ],
      "text/plain": [
       "SVC()"
      ]
     },
     "execution_count": 66,
     "metadata": {},
     "output_type": "execute_result"
    }
   ],
   "source": [
    "dt.fit(X_train, y_train)\n",
    "rf.fit(X_train, y_train)\n",
    "svm.fit(X_train, y_train)"
   ]
  },
  {
   "cell_type": "markdown",
   "id": "56d0794c-c6b6-4488-8f7d-2b0b33883d0f",
   "metadata": {},
   "source": [
    "#### Predicciones"
   ]
  },
  {
   "cell_type": "code",
   "execution_count": 67,
   "id": "cf752517-74d8-40fc-a032-7b9fea7e1429",
   "metadata": {},
   "outputs": [],
   "source": [
    "y_pred_dt = dt.predict(X_test)\n",
    "y_pred_rf = rf.predict(X_test)\n",
    "y_pred_svm = svm.predict(X_test)"
   ]
  },
  {
   "cell_type": "code",
   "execution_count": 68,
   "id": "8c232db1-6772-479d-b6d8-86279e9b146d",
   "metadata": {},
   "outputs": [
    {
     "data": {
      "text/plain": [
       "array([0, 0, 0, ..., 0, 0, 0], dtype=int64)"
      ]
     },
     "execution_count": 68,
     "metadata": {},
     "output_type": "execute_result"
    }
   ],
   "source": [
    "y_pred_dt"
   ]
  },
  {
   "cell_type": "code",
   "execution_count": 69,
   "id": "2cfcf0c5-96ed-4301-ba7e-ec2ffb2582e4",
   "metadata": {},
   "outputs": [
    {
     "data": {
      "text/plain": [
       "array([0, 0, 0, ..., 0, 0, 0], dtype=int64)"
      ]
     },
     "execution_count": 69,
     "metadata": {},
     "output_type": "execute_result"
    }
   ],
   "source": [
    "y_pred_rf"
   ]
  },
  {
   "cell_type": "code",
   "execution_count": 70,
   "id": "44cad878-c559-428b-8fbe-51734f044920",
   "metadata": {},
   "outputs": [
    {
     "data": {
      "text/plain": [
       "array([0, 0, 0, ..., 0, 0, 0], dtype=int64)"
      ]
     },
     "execution_count": 70,
     "metadata": {},
     "output_type": "execute_result"
    }
   ],
   "source": [
    "y_pred_svm"
   ]
  },
  {
   "cell_type": "markdown",
   "id": "a6ffb1d6-e74c-4a45-896d-6838bda593d4",
   "metadata": {},
   "source": [
    "## 9na fase: Validación y Despliegue\n",
    "EN esta fase vamso a elegir 1 de los modelos probados, para ello vamos a medir su rendimiento con métricas de los modelos"
   ]
  },
  {
   "cell_type": "code",
   "execution_count": 73,
   "id": "bf7c6d39-ff3a-4f02-ae7c-b50dcd1b2fbd",
   "metadata": {},
   "outputs": [],
   "source": [
    "from sklearn.metrics import accuracy_score # ya traemos metrics para poder hacer las comparaciones"
   ]
  },
  {
   "cell_type": "markdown",
   "id": "a4c736a3-60ec-4196-995e-0c667e1ce9ae",
   "metadata": {},
   "source": [
    "#### Accuracy: empezamos por el accuracy de cada modelo que es la cantidad de aciertos en el total de predicciones de cada modelo ((TP+TN)/T) rango 1-0"
   ]
  },
  {
   "cell_type": "code",
   "execution_count": 74,
   "id": "c50fce31-9a7f-43c0-a8a4-f058ede6aeee",
   "metadata": {},
   "outputs": [
    {
     "data": {
      "text/plain": [
       "0.8961881589618816"
      ]
     },
     "execution_count": 74,
     "metadata": {},
     "output_type": "execute_result"
    }
   ],
   "source": [
    "acc_dt = accuracy_score(y_test, y_pred_dt)\n",
    "acc_dt"
   ]
  },
  {
   "cell_type": "code",
   "execution_count": 75,
   "id": "1680d11d-e922-41ed-bc10-97b75504d27b",
   "metadata": {},
   "outputs": [
    {
     "data": {
      "text/plain": [
       "0.8978102189781022"
      ]
     },
     "execution_count": 75,
     "metadata": {},
     "output_type": "execute_result"
    }
   ],
   "source": [
    "acc_rf = accuracy_score(y_test, y_pred_rf)\n",
    "acc_rf"
   ]
  },
  {
   "cell_type": "code",
   "execution_count": 76,
   "id": "7fe4cc67-f58f-493c-9bdc-03c85c084cee",
   "metadata": {},
   "outputs": [
    {
     "data": {
      "text/plain": [
       "0.8986212489862125"
      ]
     },
     "execution_count": 76,
     "metadata": {},
     "output_type": "execute_result"
    }
   ],
   "source": [
    "acc_svm = accuracy_score(y_test, y_pred_svm)\n",
    "acc_svm"
   ]
  },
  {
   "cell_type": "markdown",
   "id": "06a834b9-b0de-4118-a50d-324a4cce2ea3",
   "metadata": {},
   "source": [
    "El accuracy dió alto en los 3 algoritmos, cerca del 90% de precisión\n",
    "ahora veamos otras métricas a ver como se comportan\n",
    "\n",
    "exhaustividad/recall/sensitivity: mide la proporción de instancias positivas que fueron correctamente clasificadas como positivas siguiendo la logica TP/(TP+FN) rango 1-0. mide la capasidad del algoritmo clasificador de encontrar todas las muestras positivas\n",
    "\n",
    "precision: La precisión mide la proporción de instancias clasificadas como positivas que son realmente positivas de forma que TP/(TP+FP). parece ser lo mismo que accuracy pero no porque esta metrica hace hincapie en no etiquetar una muestra positiva que es negativa. rango 1-0\n",
    "\n",
    "f1_score:  El F1-score es la media armónica entre la precisión y la exhaustividad. 2*((precision-recall)/(precision+recall)) rango 1-0 y marca la contribución relativa de precision y recall"
   ]
  },
  {
   "cell_type": "code",
   "execution_count": 77,
   "id": "2b077842-5e6b-4b47-8971-1483c98d1c07",
   "metadata": {},
   "outputs": [],
   "source": [
    "from sklearn.metrics import recall_score, precision_score, f1_score\n",
    "rec_dt = recall_score(y_test, y_pred_dt)\n",
    "rec_rf = recall_score(y_test, y_pred_rf)\n",
    "rec_svm = recall_score(y_test, y_pred_svm)"
   ]
  },
  {
   "cell_type": "code",
   "execution_count": 78,
   "id": "74c4a30e-4dde-46be-bc62-a98b9eeb27c0",
   "metadata": {},
   "outputs": [
    {
     "data": {
      "text/plain": [
       "0.024"
      ]
     },
     "execution_count": 78,
     "metadata": {},
     "output_type": "execute_result"
    }
   ],
   "source": [
    "rec_dt"
   ]
  },
  {
   "cell_type": "code",
   "execution_count": 79,
   "id": "7dbe2a2c-2878-441b-a96d-bfdb9e99c186",
   "metadata": {},
   "outputs": [
    {
     "data": {
      "text/plain": [
       "0.024"
      ]
     },
     "execution_count": 79,
     "metadata": {},
     "output_type": "execute_result"
    }
   ],
   "source": [
    "rec_rf"
   ]
  },
  {
   "cell_type": "code",
   "execution_count": 80,
   "id": "dd285558-9e5f-4c1d-8c7b-b646f5295c1d",
   "metadata": {},
   "outputs": [
    {
     "data": {
      "text/plain": [
       "0.0"
      ]
     },
     "execution_count": 80,
     "metadata": {},
     "output_type": "execute_result"
    }
   ],
   "source": [
    "rec_svm"
   ]
  },
  {
   "cell_type": "code",
   "execution_count": 81,
   "id": "151b7cf7-baa1-49ea-a0fe-eb176a695b3b",
   "metadata": {},
   "outputs": [],
   "source": [
    "prec_dt = precision_score(y_test, y_pred_dt)\n",
    "prec_rf = precision_score(y_test, y_pred_rf)\n",
    "prec_svm = precision_score(y_test, y_pred_svm, zero_division=0) # agregué el zero_division por un error, parece que estaba prediciendo 0 afirmaciones y no podia hacer la div"
   ]
  },
  {
   "cell_type": "code",
   "execution_count": 82,
   "id": "0160f5ad-1167-4514-9efb-0585efdb87a3",
   "metadata": {},
   "outputs": [
    {
     "data": {
      "text/plain": [
       "0.3333333333333333"
      ]
     },
     "execution_count": 82,
     "metadata": {},
     "output_type": "execute_result"
    }
   ],
   "source": [
    "prec_dt"
   ]
  },
  {
   "cell_type": "code",
   "execution_count": 83,
   "id": "76ab558b-f9d9-4c35-95a3-7afc058a1647",
   "metadata": {},
   "outputs": [
    {
     "data": {
      "text/plain": [
       "0.42857142857142855"
      ]
     },
     "execution_count": 83,
     "metadata": {},
     "output_type": "execute_result"
    }
   ],
   "source": [
    "prec_rf"
   ]
  },
  {
   "cell_type": "code",
   "execution_count": 84,
   "id": "4b01253d-88c0-41ac-9867-1d55985f67f2",
   "metadata": {},
   "outputs": [
    {
     "data": {
      "text/plain": [
       "0.0"
      ]
     },
     "execution_count": 84,
     "metadata": {},
     "output_type": "execute_result"
    }
   ],
   "source": [
    "prec_svm"
   ]
  },
  {
   "cell_type": "code",
   "execution_count": 85,
   "id": "6cdc70f8-ead4-43b9-b097-c02e069e14ce",
   "metadata": {},
   "outputs": [],
   "source": [
    "f1_dt = f1_score(y_test, y_pred_dt)\n",
    "f1_rf = f1_score(y_test, y_pred_rf)\n",
    "f1_svm = f1_score(y_test, y_pred_svm)"
   ]
  },
  {
   "cell_type": "code",
   "execution_count": 86,
   "id": "8176682b-834c-4eb8-b75e-16b827652a0d",
   "metadata": {},
   "outputs": [
    {
     "data": {
      "text/plain": [
       "0.04477611940298507"
      ]
     },
     "execution_count": 86,
     "metadata": {},
     "output_type": "execute_result"
    }
   ],
   "source": [
    "f1_dt"
   ]
  },
  {
   "cell_type": "code",
   "execution_count": 87,
   "id": "3ed1dc56-e018-4b58-8f0b-acdf620aa5ce",
   "metadata": {},
   "outputs": [
    {
     "data": {
      "text/plain": [
       "0.045454545454545456"
      ]
     },
     "execution_count": 87,
     "metadata": {},
     "output_type": "execute_result"
    }
   ],
   "source": [
    "f1_rf"
   ]
  },
  {
   "cell_type": "code",
   "execution_count": 88,
   "id": "81f285fe-b3e2-4c8a-a392-0f8fc2b3ef76",
   "metadata": {},
   "outputs": [
    {
     "data": {
      "text/plain": [
       "0.0"
      ]
     },
     "execution_count": 88,
     "metadata": {},
     "output_type": "execute_result"
    }
   ],
   "source": [
    "f1_svm"
   ]
  },
  {
   "cell_type": "markdown",
   "id": "32d5ff57-06b9-4ff1-bf45-59f7268c9dda",
   "metadata": {},
   "source": [
    "#### Ahora calculemos el area bajo la curva bajo ROC también conocida como la metrica 'AUC'\n",
    "El puntaje AUC (Área bajo la curva ROC) es una métrica comúnmente utilizada para evaluar la capacidad de un modelo de clasificación binaria para distinguir entre las clases positivas y negativas. El puntaje AUC varía entre 0 y 1, donde un valor de 1 indica un modelo perfecto que puede distinguir perfectamente entre las clases positivas y negativas, mientras que un valor de 0.5 indica un modelo que no tiene capacidad de discriminación y es equivalente a adivinar al azar."
   ]
  },
  {
   "cell_type": "code",
   "execution_count": 89,
   "id": "e73410b8-ee57-4a21-b993-1ba28be1c4cd",
   "metadata": {},
   "outputs": [],
   "source": [
    "from sklearn.metrics import roc_auc_score"
   ]
  },
  {
   "cell_type": "code",
   "execution_count": 91,
   "id": "e1083c3d-aab7-425e-9801-d38935136847",
   "metadata": {},
   "outputs": [
    {
     "name": "stdout",
     "output_type": "stream",
     "text": [
      "AUC: 0.56\n"
     ]
    }
   ],
   "source": [
    "probs_dt = dt.predict_proba(X_test)[:, 1]\n",
    "auc_dt = roc_auc_score(y_test, probs_dt)\n",
    "print(f'Decision Tree AUC: {auc_dt:.2f}') # busque como imprimirlo en pantalla para que se vea bonito y entendible"
   ]
  },
  {
   "cell_type": "code",
   "execution_count": 92,
   "id": "b1f62619-0b58-42a4-b2ae-b369d6e6491f",
   "metadata": {},
   "outputs": [
    {
     "name": "stdout",
     "output_type": "stream",
     "text": [
      "Random Forest AUC: 0.56\n"
     ]
    }
   ],
   "source": [
    "probs_rf = rf.predict_proba(X_test)[:, 1]\n",
    "auc_rf = roc_auc_score(y_test, probs_rf)\n",
    "print(f'Random Forest AUC: {auc_rf:.2f}')"
   ]
  },
  {
   "cell_type": "code",
   "execution_count": null,
   "id": "216efd09-f14a-42a4-abc3-0bbcdd3ac89d",
   "metadata": {},
   "outputs": [],
   "source": [
    "probs_svm = svm.predict_proba(X_test)[:, 1]\n",
    "auc_svm = roc_auc_score(y_test, probs_svm)\n",
    "print(f'SVM AUC: {auc_svm:.2f}')"
   ]
  },
  {
   "cell_type": "markdown",
   "id": "4d5f8469-b973-42e3-ad31-ff4d504ba84a",
   "metadata": {},
   "source": [
    "## 10ma fase: Conclusiones"
   ]
  },
  {
   "cell_type": "markdown",
   "id": "9624c70f-cb1d-4c66-a6b0-80978a66d8ea",
   "metadata": {},
   "source": [
    "#### Decision Tree: f1 = 0.045 / precision = 0.75 / recall = 0.023 / accuracy = 0.897 / AUC = 0.56\n",
    "f1 muy bajo esto significaria una baja contribución relativa entre recall (0.023) y precision(0.75), llama la atencion que en todos los algoritmos da bajo\n",
    "#### Random Forest: f1 = 0.045 / precision = 0.75 / recall = 0.023 / accuracy = 0.897 / AUC = 0.56\n",
    "esperaba valroes muy similares al decision tree, pero no me esperaba que sean identicos.\n",
    "#### SVM: f1 = 0.0 / precision = 0.0 / recall = 0.0 / accuracy = 0.895 / AUC =/= (error no predice)\n",
    "acá tenemos un problema claro, el modelo está clasificando todas las instancias positivas como negativas, pero el accuracy alto, me hace pensar que esta clasificando bien las negativas, solo que erró en todas las positivas.... me lleva a pensar que debe haber clasificado a todo como negativo, como hay muchos más NO que SI en el datset eso le da un accuracy alto pero falla en las demás metricas.\n",
    "\n",
    "#### En definitiva el modelo iene buena probabilidad de aciertos entre el total de predicciones, pero desciende a 0.75 cuando le damos importancia a no etiquetar mal los positivos. Ahora la exhaustividad baja nos dice que hay muchas instancias positivas que no pudo predecir correctamente, eso nos indica porque el F1 da bajo también.\n",
    "\n",
    "### Lamentablemente no es recomendable no es recomendable desplegar este modelo ya que sus métricas no cumplen con el objetivo, estaríamos interesados en conseguir métricas de AUC y precisión superiores al 80% para lo cual seguiremos trabajando en mejorar las métricas\n",
    "\n",
    "Propuestas: Podemos intentar entrenar los modelos con otro conjunto variables, o agrgar más como edad y así quizá tener mayores aciertos"
   ]
  },
  {
   "cell_type": "code",
   "execution_count": null,
   "id": "55712d7a-1bbf-4c15-822d-772c4fce37c8",
   "metadata": {},
   "outputs": [],
   "source": []
  }
 ],
 "metadata": {
  "kernelspec": {
   "display_name": "Python 3 (ipykernel)",
   "language": "python",
   "name": "python3"
  },
  "language_info": {
   "codemirror_mode": {
    "name": "ipython",
    "version": 3
   },
   "file_extension": ".py",
   "mimetype": "text/x-python",
   "name": "python",
   "nbconvert_exporter": "python",
   "pygments_lexer": "ipython3",
   "version": "3.11.1"
  }
 },
 "nbformat": 4,
 "nbformat_minor": 5
}
